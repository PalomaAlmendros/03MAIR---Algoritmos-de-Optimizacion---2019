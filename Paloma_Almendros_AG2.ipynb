{
  "nbformat": 4,
  "nbformat_minor": 0,
  "metadata": {
    "colab": {
      "name": "Paloma Almendros - AG2.ipynb",
      "provenance": [],
      "authorship_tag": "ABX9TyOxI21LSA5rHU2BfXVSOmRC",
      "include_colab_link": true
    },
    "kernelspec": {
      "name": "python3",
      "display_name": "Python 3"
    }
  },
  "cells": [
    {
      "cell_type": "markdown",
      "metadata": {
        "id": "view-in-github",
        "colab_type": "text"
      },
      "source": [
        "<a href=\"https://colab.research.google.com/github/PalomaAlmendros/03MAIR---Algoritmos-de-Optimizacion---2019/blob/master/Paloma_Almendros_AG2.ipynb\" target=\"_parent\"><img src=\"https://colab.research.google.com/assets/colab-badge.svg\" alt=\"Open In Colab\"/></a>"
      ]
    },
    {
      "cell_type": "markdown",
      "metadata": {
        "id": "Z80Vtlz6VT79",
        "colab_type": "text"
      },
      "source": [
        "* AG2- Algoritmos de Optimización\n",
        "* Paloma Almendros Jimenez\n",
        "* https://colab.research.google.com/drive/1ZGJ3PVjTdp2Ce6hhuQw99dzwbis1sJFl"
      ]
    },
    {
      "cell_type": "markdown",
      "metadata": {
        "id": "-1hsPXfPsIsk",
        "colab_type": "text"
      },
      "source": [
        "*** EJERCICIO1 ***\n",
        "Programación dinámica\n",
        "Calcular la ruta más rápida y económica para ir de un punto a otro"
      ]
    },
    {
      "cell_type": "code",
      "metadata": {
        "id": "T_0wNHbKgWOJ",
        "colab_type": "code",
        "colab": {}
      },
      "source": [
        "TARIFAS = [\n",
        "[0,5,4,3,999,999,999],\n",
        "[999,0,999,2,3,999,11],\n",
        "[999,999, 0,1,999,4,10],\n",
        "[999,999,999, 0,5,6,9],\n",
        "[999,999, 999,999,0,999,4],\n",
        "[999,999, 999,999,999,0,3],\n",
        "[999,999,999,999,999,999,0]\n",
        "]\n",
        "# Los precios altos son para rellenar huecos de la matriz, y con ese valor el programa nunca los va a dar por óptimos"
      ],
      "execution_count": 0,
      "outputs": []
    },
    {
      "cell_type": "code",
      "metadata": {
        "id": "4YIVckHOmYkm",
        "colab_type": "code",
        "colab": {}
      },
      "source": [
        "def Precios(TARIFAS):\n",
        "  N = len(TARIFAS[0])                       # N es el número de nodos\n",
        "  \n",
        "  #Inicialización de la tabla de precios\n",
        "  PRECIOS = [ [999]*N for i in [999]*N]\n",
        "  RUTA = [ [\"\"]*N for i in [\"\"]*N]\n",
        "  \n",
        "  for i in range(N-1):                      # no necesito recorrer hasta el N (no me interesa el N-N), me sobra con quedarme en el anterior\n",
        "    for j in range(i+1, N):                 # pongo i+1 porque el recorrido 0-0 no me interesa tampoco\n",
        "      MIN = TARIFAS[i][j]\n",
        "      RUTA[i][j] = i\n",
        "      \n",
        "      for k in range(i, j):                 # usamos k para puntos intermedios\n",
        "        if PRECIOS[i][k] + TARIFAS[k][j] < MIN:\n",
        "            MIN = min(MIN, PRECIOS[i][k] + TARIFAS[k][j] )\n",
        "            RUTA[i][j] = k\n",
        "        PRECIOS[i][j] = MIN\n",
        "        \n",
        "  return PRECIOS,RUTA"
      ],
      "execution_count": 0,
      "outputs": []
    },
    {
      "cell_type": "code",
      "metadata": {
        "id": "MvQwJYm8kcNI",
        "colab_type": "code",
        "outputId": "0213af12-9f17-4c66-cfa4-0a248166781c",
        "colab": {
          "base_uri": "https://localhost:8080/",
          "height": 306
        }
      },
      "source": [
        "PRECIOS,RUTA = Precios(TARIFAS)  \n",
        "#print(PRECIOS[0][6])\n",
        "print(\"PRECIOS\")\n",
        "for i in range(len(TARIFAS)):\n",
        "  print(PRECIOS[i])\n",
        "\n",
        "print(\"\\nRUTA\")  \n",
        "for i in range(len(TARIFAS)):\n",
        "  print(RUTA[i]) "
      ],
      "execution_count": 0,
      "outputs": [
        {
          "output_type": "stream",
          "text": [
            "PRECIOS\n",
            "[999, 5, 4, 3, 8, 8, 11]\n",
            "[999, 999, 999, 2, 3, 8, 7]\n",
            "[999, 999, 999, 1, 6, 4, 7]\n",
            "[999, 999, 999, 999, 5, 6, 9]\n",
            "[999, 999, 999, 999, 999, 999, 4]\n",
            "[999, 999, 999, 999, 999, 999, 3]\n",
            "[999, 999, 999, 999, 999, 999, 999]\n",
            "\n",
            "RUTA\n",
            "['', 0, 0, 0, 1, 2, 5]\n",
            "['', '', 1, 1, 1, 3, 4]\n",
            "['', '', '', 2, 3, 2, 5]\n",
            "['', '', '', '', 3, 3, 3]\n",
            "['', '', '', '', '', 4, 4]\n",
            "['', '', '', '', '', '', 5]\n",
            "['', '', '', '', '', '', '']\n"
          ],
          "name": "stdout"
        }
      ]
    },
    {
      "cell_type": "code",
      "metadata": {
        "id": "dDFTmZsepAIA",
        "colab_type": "code",
        "outputId": "ec064f1a-5c1d-485b-ca6b-11a04dd86191",
        "colab": {
          "base_uri": "https://localhost:8080/",
          "height": 68
        }
      },
      "source": [
        "def calcular_ruta(RUTA, desde, hasta):\n",
        "  if desde == hasta:\n",
        "    return desde\n",
        "  else:\n",
        "    return str(calcular_ruta(RUTA, desde, RUTA[desde][hasta])) +  ',' + str(RUTA[desde][hasta])\n",
        "    \n",
        "print('\\nLa ruta más rápida y económica es pasando por estos puntos: ')\n",
        "calcular_ruta(RUTA,0,6) "
      ],
      "execution_count": 0,
      "outputs": [
        {
          "output_type": "stream",
          "text": [
            "\n",
            "La ruta más rápida y económica es pasando por estos puntos: \n"
          ],
          "name": "stdout"
        },
        {
          "output_type": "execute_result",
          "data": {
            "text/plain": [
              "'0,0,2,5'"
            ]
          },
          "metadata": {
            "tags": []
          },
          "execution_count": 15
        }
      ]
    },
    {
      "cell_type": "markdown",
      "metadata": {
        "id": "yOTD4vuY6h0G",
        "colab_type": "text"
      },
      "source": [
        "****EJERCICIO 2 ****\n",
        "Ramificación y Poda\n",
        "Problema: Asignación de 4 tareas a 4 agentes"
      ]
    },
    {
      "cell_type": "code",
      "metadata": {
        "id": "vbmVlmTe67rN",
        "colab_type": "code",
        "colab": {}
      },
      "source": [
        "COSTES=[[11,12,18,40],\n",
        "        [14,15,13,22],\n",
        "        [11,17,19,23],\n",
        "        [17,14,20,28]]"
      ],
      "execution_count": 0,
      "outputs": []
    },
    {
      "cell_type": "code",
      "metadata": {
        "id": "YhAsFlS88Qwx",
        "colab_type": "code",
        "outputId": "af37905d-cde5-4d99-d01d-99f691fa2ebd",
        "colab": {
          "base_uri": "https://localhost:8080/",
          "height": 34
        }
      },
      "source": [
        "def valor(S,COSTES):\n",
        "  VALOR = 0\n",
        "  for i in range(len(S)):\n",
        "    VALOR += COSTES[S[i]][i] \n",
        "  return VALOR\n",
        "  \n",
        "valor((0, 1, 2, 3),COSTES)"
      ],
      "execution_count": 0,
      "outputs": [
        {
          "output_type": "execute_result",
          "data": {
            "text/plain": [
              "73"
            ]
          },
          "metadata": {
            "tags": []
          },
          "execution_count": 17
        }
      ]
    },
    {
      "cell_type": "code",
      "metadata": {
        "id": "zU8R5pox8jtW",
        "colab_type": "code",
        "colab": {}
      },
      "source": [
        "# Coste inferior para soluciones parciales\n",
        "# (1, 3, ) Se asigna la tarea 1 al agente 0 y la tarea 3 al agente 1\n",
        "\n",
        "def CI(S,COSTES):\n",
        "  VALOR = 0\n",
        "  #Valores establecidos\n",
        "  for i in range(len(S)):\n",
        "    VALOR += COSTES[i][S[i]]\n",
        "\n",
        "  #Estimacion\n",
        "  for i in range(len(COSTES)):\n",
        "    if i not in S:\n",
        "      VALOR += min([COSTES[j][i] for j in range(len(S), len(COSTES))])\n",
        "  return VALOR\n",
        "\n",
        "def CS(S,COSTES):\n",
        "  VALOR = 0\n",
        "  #Valores establecidos\n",
        "  for i in range(len(S)):\n",
        "    VALOR += COSTES[i][S[i]]\n",
        "\n",
        "  #Estimacion\n",
        "  for i in range(len(COSTES)):\n",
        "    if i not in S:\n",
        "      VALOR += max( [ COSTES[j][i] for j in range(len(S), len(COSTES))])\n",
        "  return VALOR"
      ],
      "execution_count": 0,
      "outputs": []
    },
    {
      "cell_type": "code",
      "metadata": {
        "id": "GO6iYgSM-su1",
        "colab_type": "code",
        "colab": {}
      },
      "source": [
        "#Genera tantos hijos como posibilidades haya para el siguiente elemento de la tupla\n",
        "#(0,) -> (0,1), (0,2), (0,3)\n",
        "def crear_hijos(NODO, N):\n",
        "  HIJOS = []\n",
        "  for i in range(N):\n",
        "    if i not in NODO:\n",
        "      HIJOS.append({'s':NODO +(i,)})\n",
        "  return HIJOS"
      ],
      "execution_count": 0,
      "outputs": []
    },
    {
      "cell_type": "code",
      "metadata": {
        "id": "hUymvg9oASXv",
        "colab_type": "code",
        "outputId": "4e3bb81f-e1ff-4ef5-cc32-e10197a88731",
        "colab": {
          "base_uri": "https://localhost:8080/",
          "height": 255
        }
      },
      "source": [
        "def ramificacion_y_poda(COSTES):\n",
        "#Construccion iterativa de soluciones(arbol). En cada etapa asignamos un agente(ramas).\n",
        "#Nodos del grafo  {s:(1,2),CI:3,CS:5}\n",
        "  \n",
        "  DIMENSION = len(COSTES)  \n",
        "  MEJOR_SOLUCION=tuple(i for i in range(len(COSTES)))\n",
        "  CotaSup = valor(MEJOR_SOLUCION,COSTES)\n",
        "  \n",
        "  NODOS=[]\n",
        "  NODOS.append({'s':(), 'ci':CI((), COSTES)})\n",
        "\n",
        "  iteracion = 0\n",
        "\n",
        "  while(len(NODOS) > 0):\n",
        "    iteracion +=1\n",
        "\n",
        "    nodo_prometedor = [ min(NODOS, key=lambda x:x['ci']) ][0]['s']\n",
        "   \n",
        "    #Ramificacion\n",
        "    #Se generan los hijos\n",
        "    HIJOS =[ {'s':x['s'], 'ci':CI(x['s'], COSTES)   } for x in crear_hijos(nodo_prometedor, DIMENSION) ]\n",
        "\n",
        "    #Revisamos la cota superior y nos quedamos con la mejor solución si llegamos a una solución final\n",
        "    NODO_FINAL = [x for x in HIJOS if len(x['s']) == DIMENSION]\n",
        "    if len(NODO_FINAL) > 0: \n",
        "      if NODO_FINAL[0]['ci'] < CotaSup:\n",
        "        CotaSup = NODO_FINAL[0]['ci']\n",
        "        MEJOR_SOLUCION = NODO_FINAL\n",
        " \n",
        "    #Poda\n",
        "    HIJOS = [x for x in HIJOS if x['ci'] < CotaSup]\n",
        "\n",
        "    #Añadimos los hijos \n",
        "    NODOS.extend(HIJOS) \n",
        "\n",
        "    #Eliminamos el nodo ramificado\n",
        "    NODOS =  [x for x in NODOS if x['s'] != nodo_prometedor]\n",
        "   \n",
        "    print(\"La solucion final es:\" ,MEJOR_SOLUCION , \" en \" , iteracion , \" iteraciones\" , \" para dimension: \" ,DIMENSION  )\n",
        "      \n",
        "\n",
        "\n",
        "ramificacion_y_poda(COSTES)\n"
      ],
      "execution_count": 0,
      "outputs": [
        {
          "output_type": "stream",
          "text": [
            "La solucion final es: (0, 1, 2, 3)  en  1  iteraciones  para dimension:  4\n",
            "La solucion final es: (0, 1, 2, 3)  en  2  iteraciones  para dimension:  4\n",
            "La solucion final es: (0, 1, 2, 3)  en  3  iteraciones  para dimension:  4\n",
            "La solucion final es: (0, 1, 2, 3)  en  4  iteraciones  para dimension:  4\n",
            "La solucion final es: (0, 1, 2, 3)  en  5  iteraciones  para dimension:  4\n",
            "La solucion final es: [{'s': (0, 2, 3, 1), 'ci': 61}]  en  6  iteraciones  para dimension:  4\n",
            "La solucion final es: [{'s': (0, 2, 3, 1), 'ci': 61}]  en  7  iteraciones  para dimension:  4\n",
            "La solucion final es: [{'s': (0, 2, 3, 1), 'ci': 61}]  en  8  iteraciones  para dimension:  4\n",
            "La solucion final es: [{'s': (0, 2, 3, 1), 'ci': 61}]  en  9  iteraciones  para dimension:  4\n",
            "La solucion final es: [{'s': (0, 2, 3, 1), 'ci': 61}]  en  10  iteraciones  para dimension:  4\n",
            "La solucion final es: [{'s': (0, 2, 3, 1), 'ci': 61}]  en  11  iteraciones  para dimension:  4\n",
            "La solucion final es: [{'s': (0, 2, 3, 1), 'ci': 61}]  en  12  iteraciones  para dimension:  4\n",
            "La solucion final es: [{'s': (0, 2, 3, 1), 'ci': 61}]  en  13  iteraciones  para dimension:  4\n",
            "La solucion final es: [{'s': (0, 2, 3, 1), 'ci': 61}]  en  14  iteraciones  para dimension:  4\n"
          ],
          "name": "stdout"
        }
      ]
    },
    {
      "cell_type": "markdown",
      "metadata": {
        "id": "_PmQ4NiADa8P",
        "colab_type": "text"
      },
      "source": [
        "* Para matrices mayores, por ejemplo de dimensión 8"
      ]
    },
    {
      "cell_type": "code",
      "metadata": {
        "id": "q62WInrDQRY1",
        "colab_type": "code",
        "colab": {}
      },
      "source": [
        "COSTES8=[[11,12,18,40,34,56,78,12],\n",
        "        [14,15,13,22,45,65,76,23],\n",
        "        [11,17,19,23,43,23,67,89],\n",
        "        [17,14,20,28,33,55,88,33],\n",
        "        [11,23,45,75,87,77,67,56],\n",
        "        [23,69,74,52,56,80,86,51],\n",
        "        [99,87,78,98,65,73,25,66],\n",
        "        [11,22,33,44,55,66,77,88]]"
      ],
      "execution_count": 0,
      "outputs": []
    },
    {
      "cell_type": "code",
      "metadata": {
        "id": "MSoKWPDFRDu6",
        "colab_type": "code",
        "outputId": "9ef3ccbc-594b-4887-b245-64f8e085de2d",
        "colab": {
          "base_uri": "https://localhost:8080/",
          "height": 34
        }
      },
      "source": [
        "def valor(S,COSTES8):\n",
        "  VALOR = 0\n",
        "  for i in range(len(S)):\n",
        "    VALOR += COSTES8[S[i]][i] \n",
        "  return VALOR\n",
        "  \n",
        "valor((0, 1, 2, 3, 4, 5, 6, 7),COSTES8)"
      ],
      "execution_count": 0,
      "outputs": [
        {
          "output_type": "execute_result",
          "data": {
            "text/plain": [
              "353"
            ]
          },
          "metadata": {
            "tags": []
          },
          "execution_count": 22
        }
      ]
    },
    {
      "cell_type": "code",
      "metadata": {
        "id": "SraRYOaORawa",
        "colab_type": "code",
        "colab": {}
      },
      "source": [
        "# Coste inferior para soluciones parciales\n",
        "# (1, 3, ) Se asigna la tarea 1 al agente 0 y la tarea 3 al agente 1\n",
        "\n",
        "def CI(S,COSTES8):\n",
        "  VALOR = 0\n",
        "  #Valores establecidos\n",
        "  for i in range(len(S)):\n",
        "    VALOR += COSTES8[i][S[i]]\n",
        "\n",
        "  #Estimacion\n",
        "  for i in range(len(COSTES8)):\n",
        "    if i not in S:\n",
        "      VALOR += min([COSTES8[j][i] for j in range(len(S), len(COSTES8))])\n",
        "  return VALOR\n",
        "\n",
        "def CS(S,COSTES8):\n",
        "  VALOR = 0\n",
        "  #Valores establecidos\n",
        "  for i in range(len(S)):\n",
        "    VALOR += COSTES8[i][S[i]]\n",
        "\n",
        "  #Estimacion\n",
        "  for i in range(len(COSTES8)):\n",
        "    if i not in S:\n",
        "      VALOR += max( [ COSTES8[j][i] for j in range(len(S), len(COSTES8))])\n",
        "  return VALOR"
      ],
      "execution_count": 0,
      "outputs": []
    },
    {
      "cell_type": "code",
      "metadata": {
        "id": "a8FPkwm9RoXX",
        "colab_type": "code",
        "colab": {}
      },
      "source": [
        "#Genera tantos hijos como posibilidades haya para el siguiente elemento de la tupla\n",
        "#(0,) -> (0,1), (0,2), (0,3)\n",
        "def crear_hijos(NODO, N):\n",
        "  HIJOS = []\n",
        "  for i in range(N):\n",
        "    if i not in NODO:\n",
        "      HIJOS.append({'s':NODO +(i,)})\n",
        "  return HIJOS"
      ],
      "execution_count": 0,
      "outputs": []
    },
    {
      "cell_type": "code",
      "metadata": {
        "id": "NTHWJV9LRt4A",
        "colab_type": "code",
        "outputId": "ef5e8f04-bb1a-4a1d-f1cf-e9010c63d74f",
        "colab": {
          "base_uri": "https://localhost:8080/",
          "height": 5848
        }
      },
      "source": [
        "def ramificacion_y_poda(COSTES8):\n",
        "#Construccion iterativa de soluciones(arbol). En cada etapa asignamos un agente(ramas).\n",
        "#Nodos del grafo  {s:(1,2),CI:3,CS:5}\n",
        "  \n",
        "  DIMENSION = len(COSTES8)  \n",
        "  MEJOR_SOLUCION=tuple(i for i in range(len(COSTES8)))\n",
        "  CotaSup = valor(MEJOR_SOLUCION,COSTES8)\n",
        "  \n",
        "  NODOS=[]\n",
        "  NODOS.append({'s':(), 'ci':CI((), COSTES8)})\n",
        "\n",
        "  iteracion = 0\n",
        "\n",
        "  while(len(NODOS) > 0):\n",
        "    iteracion +=1\n",
        "\n",
        "    nodo_prometedor = [ min(NODOS, key=lambda x:x['ci']) ][0]['s']\n",
        "   \n",
        "    #Ramificacion\n",
        "    #Se generan los hijos\n",
        "    HIJOS =[ {'s':x['s'], 'ci':CI(x['s'], COSTES8)   } for x in crear_hijos(nodo_prometedor, DIMENSION) ]\n",
        "\n",
        "    #Revisamos la cota superior y nos quedamos con la mejor solución si llegamos a una solución final\n",
        "    NODO_FINAL = [x for x in HIJOS if len(x['s']) == DIMENSION]\n",
        "    if len(NODO_FINAL) > 0: \n",
        "      if NODO_FINAL[0]['ci'] < CotaSup:\n",
        "        CotaSup = NODO_FINAL[0]['ci']\n",
        "        MEJOR_SOLUCION = NODO_FINAL\n",
        " \n",
        "    #Poda\n",
        "    HIJOS = [x for x in HIJOS if x['ci'] < CotaSup]\n",
        "\n",
        "    #Añadimos los hijos \n",
        "    NODOS.extend(HIJOS) \n",
        "\n",
        "    #Eliminamos el nodo ramificado\n",
        "    NODOS =  [x for x in NODOS if x['s'] != nodo_prometedor]\n",
        "   \n",
        "    print(\"La solucion final es:\" ,MEJOR_SOLUCION , \" en \" , iteracion , \" iteraciones\" , \" para dimension: \" ,DIMENSION  )\n",
        "      \n",
        "\n",
        "\n",
        "ramificacion_y_poda(COSTES8)"
      ],
      "execution_count": 0,
      "outputs": [
        {
          "output_type": "stream",
          "text": [
            "La solucion final es: (0, 1, 2, 3, 4, 5, 6, 7)  en  1  iteraciones  para dimension:  8\n",
            "La solucion final es: (0, 1, 2, 3, 4, 5, 6, 7)  en  2  iteraciones  para dimension:  8\n",
            "La solucion final es: (0, 1, 2, 3, 4, 5, 6, 7)  en  3  iteraciones  para dimension:  8\n",
            "La solucion final es: (0, 1, 2, 3, 4, 5, 6, 7)  en  4  iteraciones  para dimension:  8\n",
            "La solucion final es: (0, 1, 2, 3, 4, 5, 6, 7)  en  5  iteraciones  para dimension:  8\n",
            "La solucion final es: (0, 1, 2, 3, 4, 5, 6, 7)  en  6  iteraciones  para dimension:  8\n",
            "La solucion final es: (0, 1, 2, 3, 4, 5, 6, 7)  en  7  iteraciones  para dimension:  8\n",
            "La solucion final es: (0, 1, 2, 3, 4, 5, 6, 7)  en  8  iteraciones  para dimension:  8\n",
            "La solucion final es: (0, 1, 2, 3, 4, 5, 6, 7)  en  9  iteraciones  para dimension:  8\n",
            "La solucion final es: (0, 1, 2, 3, 4, 5, 6, 7)  en  10  iteraciones  para dimension:  8\n",
            "La solucion final es: (0, 1, 2, 3, 4, 5, 6, 7)  en  11  iteraciones  para dimension:  8\n",
            "La solucion final es: (0, 1, 2, 3, 4, 5, 6, 7)  en  12  iteraciones  para dimension:  8\n",
            "La solucion final es: (0, 1, 2, 3, 4, 5, 6, 7)  en  13  iteraciones  para dimension:  8\n",
            "La solucion final es: (0, 1, 2, 3, 4, 5, 6, 7)  en  14  iteraciones  para dimension:  8\n",
            "La solucion final es: (0, 1, 2, 3, 4, 5, 6, 7)  en  15  iteraciones  para dimension:  8\n",
            "La solucion final es: (0, 1, 2, 3, 4, 5, 6, 7)  en  16  iteraciones  para dimension:  8\n",
            "La solucion final es: (0, 1, 2, 3, 4, 5, 6, 7)  en  17  iteraciones  para dimension:  8\n",
            "La solucion final es: (0, 1, 2, 3, 4, 5, 6, 7)  en  18  iteraciones  para dimension:  8\n",
            "La solucion final es: (0, 1, 2, 3, 4, 5, 6, 7)  en  19  iteraciones  para dimension:  8\n",
            "La solucion final es: (0, 1, 2, 3, 4, 5, 6, 7)  en  20  iteraciones  para dimension:  8\n",
            "La solucion final es: (0, 1, 2, 3, 4, 5, 6, 7)  en  21  iteraciones  para dimension:  8\n",
            "La solucion final es: (0, 1, 2, 3, 4, 5, 6, 7)  en  22  iteraciones  para dimension:  8\n",
            "La solucion final es: (0, 1, 2, 3, 4, 5, 6, 7)  en  23  iteraciones  para dimension:  8\n",
            "La solucion final es: (0, 1, 2, 3, 4, 5, 6, 7)  en  24  iteraciones  para dimension:  8\n",
            "La solucion final es: (0, 1, 2, 3, 4, 5, 6, 7)  en  25  iteraciones  para dimension:  8\n",
            "La solucion final es: (0, 1, 2, 3, 4, 5, 6, 7)  en  26  iteraciones  para dimension:  8\n",
            "La solucion final es: (0, 1, 2, 3, 4, 5, 6, 7)  en  27  iteraciones  para dimension:  8\n",
            "La solucion final es: (0, 1, 2, 3, 4, 5, 6, 7)  en  28  iteraciones  para dimension:  8\n",
            "La solucion final es: (0, 1, 2, 3, 4, 5, 6, 7)  en  29  iteraciones  para dimension:  8\n",
            "La solucion final es: (0, 1, 2, 3, 4, 5, 6, 7)  en  30  iteraciones  para dimension:  8\n",
            "La solucion final es: (0, 1, 2, 3, 4, 5, 6, 7)  en  31  iteraciones  para dimension:  8\n",
            "La solucion final es: (0, 1, 2, 3, 4, 5, 6, 7)  en  32  iteraciones  para dimension:  8\n",
            "La solucion final es: (0, 1, 2, 3, 4, 5, 6, 7)  en  33  iteraciones  para dimension:  8\n",
            "La solucion final es: (0, 1, 2, 3, 4, 5, 6, 7)  en  34  iteraciones  para dimension:  8\n",
            "La solucion final es: (0, 1, 2, 3, 4, 5, 6, 7)  en  35  iteraciones  para dimension:  8\n",
            "La solucion final es: (0, 1, 2, 3, 4, 5, 6, 7)  en  36  iteraciones  para dimension:  8\n",
            "La solucion final es: (0, 1, 2, 3, 4, 5, 6, 7)  en  37  iteraciones  para dimension:  8\n",
            "La solucion final es: (0, 1, 2, 3, 4, 5, 6, 7)  en  38  iteraciones  para dimension:  8\n",
            "La solucion final es: (0, 1, 2, 3, 4, 5, 6, 7)  en  39  iteraciones  para dimension:  8\n",
            "La solucion final es: (0, 1, 2, 3, 4, 5, 6, 7)  en  40  iteraciones  para dimension:  8\n",
            "La solucion final es: (0, 1, 2, 3, 4, 5, 6, 7)  en  41  iteraciones  para dimension:  8\n",
            "La solucion final es: (0, 1, 2, 3, 4, 5, 6, 7)  en  42  iteraciones  para dimension:  8\n",
            "La solucion final es: (0, 1, 2, 3, 4, 5, 6, 7)  en  43  iteraciones  para dimension:  8\n",
            "La solucion final es: (0, 1, 2, 3, 4, 5, 6, 7)  en  44  iteraciones  para dimension:  8\n",
            "La solucion final es: (0, 1, 2, 3, 4, 5, 6, 7)  en  45  iteraciones  para dimension:  8\n",
            "La solucion final es: (0, 1, 2, 3, 4, 5, 6, 7)  en  46  iteraciones  para dimension:  8\n",
            "La solucion final es: (0, 1, 2, 3, 4, 5, 6, 7)  en  47  iteraciones  para dimension:  8\n",
            "La solucion final es: (0, 1, 2, 3, 4, 5, 6, 7)  en  48  iteraciones  para dimension:  8\n",
            "La solucion final es: (0, 1, 2, 3, 4, 5, 6, 7)  en  49  iteraciones  para dimension:  8\n",
            "La solucion final es: (0, 1, 2, 3, 4, 5, 6, 7)  en  50  iteraciones  para dimension:  8\n",
            "La solucion final es: (0, 1, 2, 3, 4, 5, 6, 7)  en  51  iteraciones  para dimension:  8\n",
            "La solucion final es: (0, 1, 2, 3, 4, 5, 6, 7)  en  52  iteraciones  para dimension:  8\n",
            "La solucion final es: (0, 1, 2, 3, 4, 5, 6, 7)  en  53  iteraciones  para dimension:  8\n",
            "La solucion final es: (0, 1, 2, 3, 4, 5, 6, 7)  en  54  iteraciones  para dimension:  8\n",
            "La solucion final es: (0, 1, 2, 3, 4, 5, 6, 7)  en  55  iteraciones  para dimension:  8\n",
            "La solucion final es: (0, 1, 2, 3, 4, 5, 6, 7)  en  56  iteraciones  para dimension:  8\n",
            "La solucion final es: (0, 1, 2, 3, 4, 5, 6, 7)  en  57  iteraciones  para dimension:  8\n",
            "La solucion final es: (0, 1, 2, 3, 4, 5, 6, 7)  en  58  iteraciones  para dimension:  8\n",
            "La solucion final es: (0, 1, 2, 3, 4, 5, 6, 7)  en  59  iteraciones  para dimension:  8\n",
            "La solucion final es: (0, 1, 2, 3, 4, 5, 6, 7)  en  60  iteraciones  para dimension:  8\n",
            "La solucion final es: (0, 1, 2, 3, 4, 5, 6, 7)  en  61  iteraciones  para dimension:  8\n",
            "La solucion final es: (0, 1, 2, 3, 4, 5, 6, 7)  en  62  iteraciones  para dimension:  8\n",
            "La solucion final es: (0, 1, 2, 3, 4, 5, 6, 7)  en  63  iteraciones  para dimension:  8\n",
            "La solucion final es: (0, 1, 2, 3, 4, 5, 6, 7)  en  64  iteraciones  para dimension:  8\n",
            "La solucion final es: (0, 1, 2, 3, 4, 5, 6, 7)  en  65  iteraciones  para dimension:  8\n",
            "La solucion final es: [{'s': (7, 2, 5, 3, 0, 4, 6, 1), 'ci': 190}]  en  66  iteraciones  para dimension:  8\n",
            "La solucion final es: [{'s': (7, 2, 5, 3, 0, 4, 6, 1), 'ci': 190}]  en  67  iteraciones  para dimension:  8\n",
            "La solucion final es: [{'s': (7, 2, 5, 3, 0, 4, 6, 1), 'ci': 190}]  en  68  iteraciones  para dimension:  8\n",
            "La solucion final es: [{'s': (7, 2, 5, 3, 0, 4, 6, 1), 'ci': 190}]  en  69  iteraciones  para dimension:  8\n",
            "La solucion final es: [{'s': (7, 2, 5, 3, 0, 4, 6, 1), 'ci': 190}]  en  70  iteraciones  para dimension:  8\n",
            "La solucion final es: [{'s': (7, 2, 5, 3, 0, 4, 6, 1), 'ci': 190}]  en  71  iteraciones  para dimension:  8\n",
            "La solucion final es: [{'s': (7, 2, 5, 3, 0, 4, 6, 1), 'ci': 190}]  en  72  iteraciones  para dimension:  8\n",
            "La solucion final es: [{'s': (7, 2, 5, 3, 0, 4, 6, 1), 'ci': 190}]  en  73  iteraciones  para dimension:  8\n",
            "La solucion final es: [{'s': (7, 2, 5, 3, 0, 4, 6, 1), 'ci': 190}]  en  74  iteraciones  para dimension:  8\n",
            "La solucion final es: [{'s': (7, 2, 5, 3, 0, 4, 6, 1), 'ci': 190}]  en  75  iteraciones  para dimension:  8\n",
            "La solucion final es: [{'s': (7, 2, 5, 3, 0, 4, 6, 1), 'ci': 190}]  en  76  iteraciones  para dimension:  8\n",
            "La solucion final es: [{'s': (7, 2, 5, 3, 0, 4, 6, 1), 'ci': 190}]  en  77  iteraciones  para dimension:  8\n",
            "La solucion final es: [{'s': (7, 2, 5, 3, 0, 4, 6, 1), 'ci': 190}]  en  78  iteraciones  para dimension:  8\n",
            "La solucion final es: [{'s': (7, 2, 5, 3, 0, 4, 6, 1), 'ci': 190}]  en  79  iteraciones  para dimension:  8\n",
            "La solucion final es: [{'s': (7, 2, 5, 3, 0, 4, 6, 1), 'ci': 190}]  en  80  iteraciones  para dimension:  8\n",
            "La solucion final es: [{'s': (7, 2, 5, 3, 0, 4, 6, 1), 'ci': 190}]  en  81  iteraciones  para dimension:  8\n",
            "La solucion final es: [{'s': (7, 2, 5, 3, 0, 4, 6, 1), 'ci': 190}]  en  82  iteraciones  para dimension:  8\n",
            "La solucion final es: [{'s': (7, 2, 5, 3, 0, 4, 6, 1), 'ci': 190}]  en  83  iteraciones  para dimension:  8\n",
            "La solucion final es: [{'s': (7, 2, 5, 3, 0, 4, 6, 1), 'ci': 190}]  en  84  iteraciones  para dimension:  8\n",
            "La solucion final es: [{'s': (7, 2, 5, 3, 0, 4, 6, 1), 'ci': 190}]  en  85  iteraciones  para dimension:  8\n",
            "La solucion final es: [{'s': (7, 2, 5, 3, 0, 4, 6, 1), 'ci': 190}]  en  86  iteraciones  para dimension:  8\n",
            "La solucion final es: [{'s': (7, 2, 5, 3, 0, 4, 6, 1), 'ci': 190}]  en  87  iteraciones  para dimension:  8\n",
            "La solucion final es: [{'s': (7, 2, 5, 3, 0, 4, 6, 1), 'ci': 190}]  en  88  iteraciones  para dimension:  8\n",
            "La solucion final es: [{'s': (7, 2, 5, 3, 0, 4, 6, 1), 'ci': 190}]  en  89  iteraciones  para dimension:  8\n",
            "La solucion final es: [{'s': (7, 2, 5, 3, 0, 4, 6, 1), 'ci': 190}]  en  90  iteraciones  para dimension:  8\n",
            "La solucion final es: [{'s': (7, 2, 5, 3, 0, 4, 6, 1), 'ci': 190}]  en  91  iteraciones  para dimension:  8\n",
            "La solucion final es: [{'s': (7, 2, 5, 3, 0, 4, 6, 1), 'ci': 190}]  en  92  iteraciones  para dimension:  8\n",
            "La solucion final es: [{'s': (7, 2, 5, 3, 0, 4, 6, 1), 'ci': 190}]  en  93  iteraciones  para dimension:  8\n",
            "La solucion final es: [{'s': (7, 2, 5, 3, 0, 4, 6, 1), 'ci': 190}]  en  94  iteraciones  para dimension:  8\n",
            "La solucion final es: [{'s': (7, 2, 5, 3, 0, 4, 6, 1), 'ci': 190}]  en  95  iteraciones  para dimension:  8\n",
            "La solucion final es: [{'s': (7, 2, 5, 3, 0, 4, 6, 1), 'ci': 190}]  en  96  iteraciones  para dimension:  8\n",
            "La solucion final es: [{'s': (7, 2, 5, 3, 0, 4, 6, 1), 'ci': 190}]  en  97  iteraciones  para dimension:  8\n",
            "La solucion final es: [{'s': (7, 2, 5, 3, 0, 4, 6, 1), 'ci': 190}]  en  98  iteraciones  para dimension:  8\n",
            "La solucion final es: [{'s': (7, 2, 5, 3, 0, 4, 6, 1), 'ci': 190}]  en  99  iteraciones  para dimension:  8\n",
            "La solucion final es: [{'s': (7, 2, 5, 3, 0, 4, 6, 1), 'ci': 190}]  en  100  iteraciones  para dimension:  8\n",
            "La solucion final es: [{'s': (7, 2, 5, 3, 0, 4, 6, 1), 'ci': 190}]  en  101  iteraciones  para dimension:  8\n",
            "La solucion final es: [{'s': (7, 2, 5, 3, 0, 4, 6, 1), 'ci': 190}]  en  102  iteraciones  para dimension:  8\n",
            "La solucion final es: [{'s': (7, 2, 5, 3, 0, 4, 6, 1), 'ci': 190}]  en  103  iteraciones  para dimension:  8\n",
            "La solucion final es: [{'s': (7, 2, 5, 3, 0, 4, 6, 1), 'ci': 190}]  en  104  iteraciones  para dimension:  8\n",
            "La solucion final es: [{'s': (7, 2, 5, 3, 0, 4, 6, 1), 'ci': 190}]  en  105  iteraciones  para dimension:  8\n",
            "La solucion final es: [{'s': (7, 2, 5, 3, 0, 4, 6, 1), 'ci': 190}]  en  106  iteraciones  para dimension:  8\n",
            "La solucion final es: [{'s': (7, 2, 5, 3, 0, 4, 6, 1), 'ci': 190}]  en  107  iteraciones  para dimension:  8\n",
            "La solucion final es: [{'s': (7, 2, 5, 3, 0, 4, 6, 1), 'ci': 190}]  en  108  iteraciones  para dimension:  8\n",
            "La solucion final es: [{'s': (7, 2, 5, 3, 0, 4, 6, 1), 'ci': 190}]  en  109  iteraciones  para dimension:  8\n",
            "La solucion final es: [{'s': (7, 2, 5, 3, 0, 4, 6, 1), 'ci': 190}]  en  110  iteraciones  para dimension:  8\n",
            "La solucion final es: [{'s': (7, 2, 5, 3, 0, 4, 6, 1), 'ci': 190}]  en  111  iteraciones  para dimension:  8\n",
            "La solucion final es: [{'s': (7, 2, 5, 3, 0, 4, 6, 1), 'ci': 190}]  en  112  iteraciones  para dimension:  8\n",
            "La solucion final es: [{'s': (7, 2, 5, 3, 0, 4, 6, 1), 'ci': 190}]  en  113  iteraciones  para dimension:  8\n",
            "La solucion final es: [{'s': (7, 2, 5, 3, 0, 4, 6, 1), 'ci': 190}]  en  114  iteraciones  para dimension:  8\n",
            "La solucion final es: [{'s': (7, 2, 5, 3, 0, 4, 6, 1), 'ci': 190}]  en  115  iteraciones  para dimension:  8\n",
            "La solucion final es: [{'s': (7, 2, 5, 3, 0, 4, 6, 1), 'ci': 190}]  en  116  iteraciones  para dimension:  8\n",
            "La solucion final es: [{'s': (7, 2, 5, 3, 0, 4, 6, 1), 'ci': 190}]  en  117  iteraciones  para dimension:  8\n",
            "La solucion final es: [{'s': (7, 2, 5, 3, 0, 4, 6, 1), 'ci': 190}]  en  118  iteraciones  para dimension:  8\n",
            "La solucion final es: [{'s': (7, 2, 5, 3, 0, 4, 6, 1), 'ci': 190}]  en  119  iteraciones  para dimension:  8\n",
            "La solucion final es: [{'s': (7, 2, 5, 3, 0, 4, 6, 1), 'ci': 190}]  en  120  iteraciones  para dimension:  8\n",
            "La solucion final es: [{'s': (7, 2, 5, 3, 0, 4, 6, 1), 'ci': 190}]  en  121  iteraciones  para dimension:  8\n",
            "La solucion final es: [{'s': (7, 2, 5, 3, 0, 4, 6, 1), 'ci': 190}]  en  122  iteraciones  para dimension:  8\n",
            "La solucion final es: [{'s': (7, 2, 5, 3, 0, 4, 6, 1), 'ci': 190}]  en  123  iteraciones  para dimension:  8\n",
            "La solucion final es: [{'s': (7, 2, 5, 3, 0, 4, 6, 1), 'ci': 190}]  en  124  iteraciones  para dimension:  8\n",
            "La solucion final es: [{'s': (7, 2, 5, 3, 0, 4, 6, 1), 'ci': 190}]  en  125  iteraciones  para dimension:  8\n",
            "La solucion final es: [{'s': (7, 2, 5, 3, 0, 4, 6, 1), 'ci': 190}]  en  126  iteraciones  para dimension:  8\n",
            "La solucion final es: [{'s': (7, 2, 5, 3, 0, 4, 6, 1), 'ci': 190}]  en  127  iteraciones  para dimension:  8\n",
            "La solucion final es: [{'s': (7, 2, 5, 3, 0, 4, 6, 1), 'ci': 190}]  en  128  iteraciones  para dimension:  8\n",
            "La solucion final es: [{'s': (7, 2, 5, 3, 0, 4, 6, 1), 'ci': 190}]  en  129  iteraciones  para dimension:  8\n",
            "La solucion final es: [{'s': (7, 2, 5, 3, 0, 4, 6, 1), 'ci': 190}]  en  130  iteraciones  para dimension:  8\n",
            "La solucion final es: [{'s': (7, 2, 5, 3, 0, 4, 6, 1), 'ci': 190}]  en  131  iteraciones  para dimension:  8\n",
            "La solucion final es: [{'s': (7, 2, 5, 3, 0, 4, 6, 1), 'ci': 190}]  en  132  iteraciones  para dimension:  8\n",
            "La solucion final es: [{'s': (7, 2, 5, 3, 0, 4, 6, 1), 'ci': 190}]  en  133  iteraciones  para dimension:  8\n",
            "La solucion final es: [{'s': (7, 2, 5, 3, 0, 4, 6, 1), 'ci': 190}]  en  134  iteraciones  para dimension:  8\n",
            "La solucion final es: [{'s': (7, 2, 5, 3, 0, 4, 6, 1), 'ci': 190}]  en  135  iteraciones  para dimension:  8\n",
            "La solucion final es: [{'s': (7, 2, 5, 3, 0, 4, 6, 1), 'ci': 190}]  en  136  iteraciones  para dimension:  8\n",
            "La solucion final es: [{'s': (7, 2, 5, 3, 0, 4, 6, 1), 'ci': 190}]  en  137  iteraciones  para dimension:  8\n",
            "La solucion final es: [{'s': (7, 2, 5, 3, 0, 4, 6, 1), 'ci': 190}]  en  138  iteraciones  para dimension:  8\n",
            "La solucion final es: [{'s': (7, 2, 5, 3, 0, 4, 6, 1), 'ci': 190}]  en  139  iteraciones  para dimension:  8\n",
            "La solucion final es: [{'s': (7, 2, 5, 3, 0, 4, 6, 1), 'ci': 190}]  en  140  iteraciones  para dimension:  8\n",
            "La solucion final es: [{'s': (7, 2, 5, 3, 0, 4, 6, 1), 'ci': 190}]  en  141  iteraciones  para dimension:  8\n",
            "La solucion final es: [{'s': (7, 2, 5, 3, 0, 4, 6, 1), 'ci': 190}]  en  142  iteraciones  para dimension:  8\n",
            "La solucion final es: [{'s': (7, 2, 5, 3, 0, 4, 6, 1), 'ci': 190}]  en  143  iteraciones  para dimension:  8\n",
            "La solucion final es: [{'s': (7, 2, 5, 3, 0, 4, 6, 1), 'ci': 190}]  en  144  iteraciones  para dimension:  8\n",
            "La solucion final es: [{'s': (7, 2, 5, 3, 0, 4, 6, 1), 'ci': 190}]  en  145  iteraciones  para dimension:  8\n",
            "La solucion final es: [{'s': (7, 2, 5, 3, 0, 4, 6, 1), 'ci': 190}]  en  146  iteraciones  para dimension:  8\n",
            "La solucion final es: [{'s': (7, 2, 5, 3, 0, 4, 6, 1), 'ci': 190}]  en  147  iteraciones  para dimension:  8\n",
            "La solucion final es: [{'s': (7, 2, 5, 3, 0, 4, 6, 1), 'ci': 190}]  en  148  iteraciones  para dimension:  8\n",
            "La solucion final es: [{'s': (7, 2, 5, 3, 0, 4, 6, 1), 'ci': 190}]  en  149  iteraciones  para dimension:  8\n",
            "La solucion final es: [{'s': (7, 2, 5, 3, 0, 4, 6, 1), 'ci': 190}]  en  150  iteraciones  para dimension:  8\n",
            "La solucion final es: [{'s': (7, 2, 5, 3, 0, 4, 6, 1), 'ci': 190}]  en  151  iteraciones  para dimension:  8\n",
            "La solucion final es: [{'s': (7, 2, 5, 3, 0, 4, 6, 1), 'ci': 190}]  en  152  iteraciones  para dimension:  8\n",
            "La solucion final es: [{'s': (7, 2, 5, 3, 0, 4, 6, 1), 'ci': 190}]  en  153  iteraciones  para dimension:  8\n",
            "La solucion final es: [{'s': (7, 2, 5, 3, 0, 4, 6, 1), 'ci': 190}]  en  154  iteraciones  para dimension:  8\n",
            "La solucion final es: [{'s': (7, 2, 5, 3, 0, 4, 6, 1), 'ci': 190}]  en  155  iteraciones  para dimension:  8\n",
            "La solucion final es: [{'s': (7, 2, 5, 3, 0, 4, 6, 1), 'ci': 190}]  en  156  iteraciones  para dimension:  8\n",
            "La solucion final es: [{'s': (7, 2, 5, 3, 0, 4, 6, 1), 'ci': 190}]  en  157  iteraciones  para dimension:  8\n",
            "La solucion final es: [{'s': (7, 2, 5, 3, 0, 4, 6, 1), 'ci': 190}]  en  158  iteraciones  para dimension:  8\n",
            "La solucion final es: [{'s': (7, 2, 5, 3, 0, 4, 6, 1), 'ci': 190}]  en  159  iteraciones  para dimension:  8\n",
            "La solucion final es: [{'s': (7, 2, 5, 3, 0, 4, 6, 1), 'ci': 190}]  en  160  iteraciones  para dimension:  8\n",
            "La solucion final es: [{'s': (7, 2, 5, 3, 0, 4, 6, 1), 'ci': 190}]  en  161  iteraciones  para dimension:  8\n",
            "La solucion final es: [{'s': (7, 2, 5, 3, 0, 4, 6, 1), 'ci': 190}]  en  162  iteraciones  para dimension:  8\n",
            "La solucion final es: [{'s': (7, 2, 5, 3, 0, 4, 6, 1), 'ci': 190}]  en  163  iteraciones  para dimension:  8\n",
            "La solucion final es: [{'s': (7, 2, 5, 3, 0, 4, 6, 1), 'ci': 190}]  en  164  iteraciones  para dimension:  8\n",
            "La solucion final es: [{'s': (7, 2, 5, 3, 0, 4, 6, 1), 'ci': 190}]  en  165  iteraciones  para dimension:  8\n",
            "La solucion final es: [{'s': (7, 2, 5, 3, 0, 4, 6, 1), 'ci': 190}]  en  166  iteraciones  para dimension:  8\n",
            "La solucion final es: [{'s': (7, 2, 5, 3, 0, 4, 6, 1), 'ci': 190}]  en  167  iteraciones  para dimension:  8\n",
            "La solucion final es: [{'s': (7, 2, 5, 3, 0, 4, 6, 1), 'ci': 190}]  en  168  iteraciones  para dimension:  8\n",
            "La solucion final es: [{'s': (7, 2, 5, 3, 0, 4, 6, 1), 'ci': 190}]  en  169  iteraciones  para dimension:  8\n",
            "La solucion final es: [{'s': (7, 2, 5, 3, 0, 4, 6, 1), 'ci': 190}]  en  170  iteraciones  para dimension:  8\n",
            "La solucion final es: [{'s': (7, 2, 5, 3, 0, 4, 6, 1), 'ci': 190}]  en  171  iteraciones  para dimension:  8\n",
            "La solucion final es: [{'s': (7, 2, 5, 3, 0, 4, 6, 1), 'ci': 190}]  en  172  iteraciones  para dimension:  8\n",
            "La solucion final es: [{'s': (7, 2, 5, 3, 0, 4, 6, 1), 'ci': 190}]  en  173  iteraciones  para dimension:  8\n",
            "La solucion final es: [{'s': (7, 2, 5, 3, 0, 4, 6, 1), 'ci': 190}]  en  174  iteraciones  para dimension:  8\n",
            "La solucion final es: [{'s': (7, 2, 5, 3, 0, 4, 6, 1), 'ci': 190}]  en  175  iteraciones  para dimension:  8\n",
            "La solucion final es: [{'s': (7, 2, 5, 3, 0, 4, 6, 1), 'ci': 190}]  en  176  iteraciones  para dimension:  8\n",
            "La solucion final es: [{'s': (7, 2, 5, 3, 0, 4, 6, 1), 'ci': 190}]  en  177  iteraciones  para dimension:  8\n",
            "La solucion final es: [{'s': (7, 2, 5, 3, 0, 4, 6, 1), 'ci': 190}]  en  178  iteraciones  para dimension:  8\n",
            "La solucion final es: [{'s': (7, 2, 5, 3, 0, 4, 6, 1), 'ci': 190}]  en  179  iteraciones  para dimension:  8\n",
            "La solucion final es: [{'s': (7, 2, 5, 3, 0, 4, 6, 1), 'ci': 190}]  en  180  iteraciones  para dimension:  8\n",
            "La solucion final es: [{'s': (7, 2, 5, 3, 0, 4, 6, 1), 'ci': 190}]  en  181  iteraciones  para dimension:  8\n",
            "La solucion final es: [{'s': (7, 2, 5, 3, 0, 4, 6, 1), 'ci': 190}]  en  182  iteraciones  para dimension:  8\n",
            "La solucion final es: [{'s': (7, 2, 5, 3, 0, 4, 6, 1), 'ci': 190}]  en  183  iteraciones  para dimension:  8\n",
            "La solucion final es: [{'s': (7, 2, 5, 3, 0, 4, 6, 1), 'ci': 190}]  en  184  iteraciones  para dimension:  8\n",
            "La solucion final es: [{'s': (7, 2, 5, 3, 0, 4, 6, 1), 'ci': 190}]  en  185  iteraciones  para dimension:  8\n",
            "La solucion final es: [{'s': (7, 2, 5, 3, 0, 4, 6, 1), 'ci': 190}]  en  186  iteraciones  para dimension:  8\n",
            "La solucion final es: [{'s': (7, 2, 5, 3, 0, 4, 6, 1), 'ci': 190}]  en  187  iteraciones  para dimension:  8\n",
            "La solucion final es: [{'s': (7, 2, 5, 3, 0, 4, 6, 1), 'ci': 190}]  en  188  iteraciones  para dimension:  8\n",
            "La solucion final es: [{'s': (7, 2, 5, 3, 0, 4, 6, 1), 'ci': 190}]  en  189  iteraciones  para dimension:  8\n",
            "La solucion final es: [{'s': (7, 2, 5, 3, 0, 4, 6, 1), 'ci': 190}]  en  190  iteraciones  para dimension:  8\n",
            "La solucion final es: [{'s': (7, 2, 5, 3, 0, 4, 6, 1), 'ci': 190}]  en  191  iteraciones  para dimension:  8\n",
            "La solucion final es: [{'s': (7, 2, 5, 3, 0, 4, 6, 1), 'ci': 190}]  en  192  iteraciones  para dimension:  8\n",
            "La solucion final es: [{'s': (7, 2, 5, 3, 0, 4, 6, 1), 'ci': 190}]  en  193  iteraciones  para dimension:  8\n",
            "La solucion final es: [{'s': (7, 2, 5, 3, 0, 4, 6, 1), 'ci': 190}]  en  194  iteraciones  para dimension:  8\n",
            "La solucion final es: [{'s': (7, 2, 5, 3, 0, 4, 6, 1), 'ci': 190}]  en  195  iteraciones  para dimension:  8\n",
            "La solucion final es: [{'s': (7, 2, 5, 3, 0, 4, 6, 1), 'ci': 190}]  en  196  iteraciones  para dimension:  8\n",
            "La solucion final es: [{'s': (7, 2, 5, 3, 0, 4, 6, 1), 'ci': 190}]  en  197  iteraciones  para dimension:  8\n",
            "La solucion final es: [{'s': (7, 2, 5, 3, 0, 4, 6, 1), 'ci': 190}]  en  198  iteraciones  para dimension:  8\n",
            "La solucion final es: [{'s': (7, 2, 5, 3, 0, 4, 6, 1), 'ci': 190}]  en  199  iteraciones  para dimension:  8\n",
            "La solucion final es: [{'s': (7, 2, 5, 3, 0, 4, 6, 1), 'ci': 190}]  en  200  iteraciones  para dimension:  8\n",
            "La solucion final es: [{'s': (7, 2, 5, 3, 0, 4, 6, 1), 'ci': 190}]  en  201  iteraciones  para dimension:  8\n",
            "La solucion final es: [{'s': (7, 2, 5, 3, 0, 4, 6, 1), 'ci': 190}]  en  202  iteraciones  para dimension:  8\n",
            "La solucion final es: [{'s': (7, 2, 5, 3, 0, 4, 6, 1), 'ci': 190}]  en  203  iteraciones  para dimension:  8\n",
            "La solucion final es: [{'s': (7, 2, 5, 3, 0, 4, 6, 1), 'ci': 190}]  en  204  iteraciones  para dimension:  8\n",
            "La solucion final es: [{'s': (7, 2, 5, 3, 0, 4, 6, 1), 'ci': 190}]  en  205  iteraciones  para dimension:  8\n",
            "La solucion final es: [{'s': (7, 2, 5, 3, 0, 4, 6, 1), 'ci': 190}]  en  206  iteraciones  para dimension:  8\n",
            "La solucion final es: [{'s': (7, 2, 5, 3, 0, 4, 6, 1), 'ci': 190}]  en  207  iteraciones  para dimension:  8\n",
            "La solucion final es: [{'s': (7, 2, 5, 3, 0, 4, 6, 1), 'ci': 190}]  en  208  iteraciones  para dimension:  8\n",
            "La solucion final es: [{'s': (7, 2, 5, 3, 0, 4, 6, 1), 'ci': 190}]  en  209  iteraciones  para dimension:  8\n",
            "La solucion final es: [{'s': (7, 2, 5, 3, 0, 4, 6, 1), 'ci': 190}]  en  210  iteraciones  para dimension:  8\n",
            "La solucion final es: [{'s': (7, 2, 5, 3, 0, 4, 6, 1), 'ci': 190}]  en  211  iteraciones  para dimension:  8\n",
            "La solucion final es: [{'s': (7, 2, 5, 3, 0, 4, 6, 1), 'ci': 190}]  en  212  iteraciones  para dimension:  8\n",
            "La solucion final es: [{'s': (7, 2, 5, 3, 0, 4, 6, 1), 'ci': 190}]  en  213  iteraciones  para dimension:  8\n",
            "La solucion final es: [{'s': (7, 2, 5, 3, 0, 4, 6, 1), 'ci': 190}]  en  214  iteraciones  para dimension:  8\n",
            "La solucion final es: [{'s': (7, 2, 5, 3, 0, 4, 6, 1), 'ci': 190}]  en  215  iteraciones  para dimension:  8\n",
            "La solucion final es: [{'s': (7, 2, 5, 3, 0, 4, 6, 1), 'ci': 190}]  en  216  iteraciones  para dimension:  8\n",
            "La solucion final es: [{'s': (7, 2, 5, 3, 0, 4, 6, 1), 'ci': 190}]  en  217  iteraciones  para dimension:  8\n",
            "La solucion final es: [{'s': (7, 2, 5, 3, 0, 4, 6, 1), 'ci': 190}]  en  218  iteraciones  para dimension:  8\n",
            "La solucion final es: [{'s': (7, 2, 5, 3, 0, 4, 6, 1), 'ci': 190}]  en  219  iteraciones  para dimension:  8\n",
            "La solucion final es: [{'s': (7, 2, 5, 3, 0, 4, 6, 1), 'ci': 190}]  en  220  iteraciones  para dimension:  8\n",
            "La solucion final es: [{'s': (7, 2, 5, 3, 0, 4, 6, 1), 'ci': 190}]  en  221  iteraciones  para dimension:  8\n",
            "La solucion final es: [{'s': (7, 2, 5, 3, 0, 4, 6, 1), 'ci': 190}]  en  222  iteraciones  para dimension:  8\n",
            "La solucion final es: [{'s': (7, 2, 5, 3, 0, 4, 6, 1), 'ci': 190}]  en  223  iteraciones  para dimension:  8\n",
            "La solucion final es: [{'s': (7, 2, 5, 3, 0, 4, 6, 1), 'ci': 190}]  en  224  iteraciones  para dimension:  8\n",
            "La solucion final es: [{'s': (7, 2, 5, 3, 0, 4, 6, 1), 'ci': 190}]  en  225  iteraciones  para dimension:  8\n",
            "La solucion final es: [{'s': (7, 2, 5, 3, 0, 4, 6, 1), 'ci': 190}]  en  226  iteraciones  para dimension:  8\n",
            "La solucion final es: [{'s': (7, 2, 5, 3, 0, 4, 6, 1), 'ci': 190}]  en  227  iteraciones  para dimension:  8\n",
            "La solucion final es: [{'s': (7, 2, 5, 3, 0, 4, 6, 1), 'ci': 190}]  en  228  iteraciones  para dimension:  8\n",
            "La solucion final es: [{'s': (7, 2, 5, 3, 0, 4, 6, 1), 'ci': 190}]  en  229  iteraciones  para dimension:  8\n",
            "La solucion final es: [{'s': (7, 2, 5, 3, 0, 4, 6, 1), 'ci': 190}]  en  230  iteraciones  para dimension:  8\n",
            "La solucion final es: [{'s': (7, 2, 5, 3, 0, 4, 6, 1), 'ci': 190}]  en  231  iteraciones  para dimension:  8\n",
            "La solucion final es: [{'s': (7, 2, 5, 3, 0, 4, 6, 1), 'ci': 190}]  en  232  iteraciones  para dimension:  8\n",
            "La solucion final es: [{'s': (7, 2, 5, 3, 0, 4, 6, 1), 'ci': 190}]  en  233  iteraciones  para dimension:  8\n",
            "La solucion final es: [{'s': (7, 2, 5, 3, 0, 4, 6, 1), 'ci': 190}]  en  234  iteraciones  para dimension:  8\n",
            "La solucion final es: [{'s': (7, 2, 5, 3, 0, 4, 6, 1), 'ci': 190}]  en  235  iteraciones  para dimension:  8\n",
            "La solucion final es: [{'s': (7, 2, 5, 3, 0, 4, 6, 1), 'ci': 190}]  en  236  iteraciones  para dimension:  8\n",
            "La solucion final es: [{'s': (7, 2, 5, 3, 0, 4, 6, 1), 'ci': 190}]  en  237  iteraciones  para dimension:  8\n",
            "La solucion final es: [{'s': (7, 2, 5, 3, 0, 4, 6, 1), 'ci': 190}]  en  238  iteraciones  para dimension:  8\n",
            "La solucion final es: [{'s': (7, 2, 5, 3, 0, 4, 6, 1), 'ci': 190}]  en  239  iteraciones  para dimension:  8\n",
            "La solucion final es: [{'s': (7, 2, 5, 3, 0, 4, 6, 1), 'ci': 190}]  en  240  iteraciones  para dimension:  8\n",
            "La solucion final es: [{'s': (7, 2, 5, 3, 0, 4, 6, 1), 'ci': 190}]  en  241  iteraciones  para dimension:  8\n",
            "La solucion final es: [{'s': (7, 2, 5, 3, 0, 4, 6, 1), 'ci': 190}]  en  242  iteraciones  para dimension:  8\n",
            "La solucion final es: [{'s': (7, 2, 5, 3, 0, 4, 6, 1), 'ci': 190}]  en  243  iteraciones  para dimension:  8\n",
            "La solucion final es: [{'s': (7, 2, 5, 3, 0, 4, 6, 1), 'ci': 190}]  en  244  iteraciones  para dimension:  8\n",
            "La solucion final es: [{'s': (7, 2, 5, 3, 0, 4, 6, 1), 'ci': 190}]  en  245  iteraciones  para dimension:  8\n",
            "La solucion final es: [{'s': (7, 2, 5, 3, 0, 4, 6, 1), 'ci': 190}]  en  246  iteraciones  para dimension:  8\n",
            "La solucion final es: [{'s': (7, 2, 5, 3, 0, 4, 6, 1), 'ci': 190}]  en  247  iteraciones  para dimension:  8\n",
            "La solucion final es: [{'s': (7, 2, 5, 3, 0, 4, 6, 1), 'ci': 190}]  en  248  iteraciones  para dimension:  8\n",
            "La solucion final es: [{'s': (7, 2, 5, 3, 0, 4, 6, 1), 'ci': 190}]  en  249  iteraciones  para dimension:  8\n",
            "La solucion final es: [{'s': (7, 2, 5, 3, 0, 4, 6, 1), 'ci': 190}]  en  250  iteraciones  para dimension:  8\n",
            "La solucion final es: [{'s': (7, 2, 5, 3, 0, 4, 6, 1), 'ci': 190}]  en  251  iteraciones  para dimension:  8\n",
            "La solucion final es: [{'s': (7, 2, 5, 3, 0, 4, 6, 1), 'ci': 190}]  en  252  iteraciones  para dimension:  8\n",
            "La solucion final es: [{'s': (7, 2, 5, 3, 0, 4, 6, 1), 'ci': 190}]  en  253  iteraciones  para dimension:  8\n",
            "La solucion final es: [{'s': (7, 2, 5, 3, 0, 4, 6, 1), 'ci': 190}]  en  254  iteraciones  para dimension:  8\n",
            "La solucion final es: [{'s': (7, 2, 5, 3, 0, 4, 6, 1), 'ci': 190}]  en  255  iteraciones  para dimension:  8\n",
            "La solucion final es: [{'s': (7, 2, 5, 3, 0, 4, 6, 1), 'ci': 190}]  en  256  iteraciones  para dimension:  8\n",
            "La solucion final es: [{'s': (7, 2, 5, 3, 0, 4, 6, 1), 'ci': 190}]  en  257  iteraciones  para dimension:  8\n",
            "La solucion final es: [{'s': (7, 2, 5, 3, 0, 4, 6, 1), 'ci': 190}]  en  258  iteraciones  para dimension:  8\n",
            "La solucion final es: [{'s': (7, 2, 5, 3, 0, 4, 6, 1), 'ci': 190}]  en  259  iteraciones  para dimension:  8\n",
            "La solucion final es: [{'s': (7, 2, 5, 3, 0, 4, 6, 1), 'ci': 190}]  en  260  iteraciones  para dimension:  8\n",
            "La solucion final es: [{'s': (7, 2, 5, 3, 0, 4, 6, 1), 'ci': 190}]  en  261  iteraciones  para dimension:  8\n",
            "La solucion final es: [{'s': (7, 2, 5, 3, 0, 4, 6, 1), 'ci': 190}]  en  262  iteraciones  para dimension:  8\n",
            "La solucion final es: [{'s': (7, 2, 5, 3, 0, 4, 6, 1), 'ci': 190}]  en  263  iteraciones  para dimension:  8\n",
            "La solucion final es: [{'s': (7, 2, 5, 3, 0, 4, 6, 1), 'ci': 190}]  en  264  iteraciones  para dimension:  8\n",
            "La solucion final es: [{'s': (7, 2, 5, 3, 0, 4, 6, 1), 'ci': 190}]  en  265  iteraciones  para dimension:  8\n",
            "La solucion final es: [{'s': (7, 2, 5, 3, 0, 4, 6, 1), 'ci': 190}]  en  266  iteraciones  para dimension:  8\n",
            "La solucion final es: [{'s': (7, 2, 5, 3, 0, 4, 6, 1), 'ci': 190}]  en  267  iteraciones  para dimension:  8\n",
            "La solucion final es: [{'s': (7, 2, 5, 3, 0, 4, 6, 1), 'ci': 190}]  en  268  iteraciones  para dimension:  8\n",
            "La solucion final es: [{'s': (7, 2, 5, 3, 0, 4, 6, 1), 'ci': 190}]  en  269  iteraciones  para dimension:  8\n",
            "La solucion final es: [{'s': (7, 2, 5, 3, 0, 4, 6, 1), 'ci': 190}]  en  270  iteraciones  para dimension:  8\n",
            "La solucion final es: [{'s': (7, 2, 5, 3, 0, 4, 6, 1), 'ci': 190}]  en  271  iteraciones  para dimension:  8\n",
            "La solucion final es: [{'s': (7, 2, 5, 3, 0, 4, 6, 1), 'ci': 190}]  en  272  iteraciones  para dimension:  8\n",
            "La solucion final es: [{'s': (7, 2, 5, 3, 0, 4, 6, 1), 'ci': 190}]  en  273  iteraciones  para dimension:  8\n",
            "La solucion final es: [{'s': (7, 2, 5, 3, 0, 4, 6, 1), 'ci': 190}]  en  274  iteraciones  para dimension:  8\n",
            "La solucion final es: [{'s': (7, 2, 5, 3, 0, 4, 6, 1), 'ci': 190}]  en  275  iteraciones  para dimension:  8\n",
            "La solucion final es: [{'s': (7, 2, 5, 3, 0, 4, 6, 1), 'ci': 190}]  en  276  iteraciones  para dimension:  8\n",
            "La solucion final es: [{'s': (7, 2, 5, 3, 0, 4, 6, 1), 'ci': 190}]  en  277  iteraciones  para dimension:  8\n",
            "La solucion final es: [{'s': (7, 2, 5, 3, 0, 4, 6, 1), 'ci': 190}]  en  278  iteraciones  para dimension:  8\n",
            "La solucion final es: [{'s': (7, 2, 5, 3, 0, 4, 6, 1), 'ci': 190}]  en  279  iteraciones  para dimension:  8\n",
            "La solucion final es: [{'s': (7, 2, 5, 3, 0, 4, 6, 1), 'ci': 190}]  en  280  iteraciones  para dimension:  8\n",
            "La solucion final es: [{'s': (7, 2, 5, 3, 0, 4, 6, 1), 'ci': 190}]  en  281  iteraciones  para dimension:  8\n",
            "La solucion final es: [{'s': (7, 2, 5, 3, 0, 4, 6, 1), 'ci': 190}]  en  282  iteraciones  para dimension:  8\n",
            "La solucion final es: [{'s': (7, 2, 5, 3, 0, 4, 6, 1), 'ci': 190}]  en  283  iteraciones  para dimension:  8\n",
            "La solucion final es: [{'s': (7, 2, 5, 3, 0, 4, 6, 1), 'ci': 190}]  en  284  iteraciones  para dimension:  8\n",
            "La solucion final es: [{'s': (7, 2, 5, 3, 0, 4, 6, 1), 'ci': 190}]  en  285  iteraciones  para dimension:  8\n",
            "La solucion final es: [{'s': (7, 2, 5, 3, 0, 4, 6, 1), 'ci': 190}]  en  286  iteraciones  para dimension:  8\n",
            "La solucion final es: [{'s': (7, 2, 5, 3, 0, 4, 6, 1), 'ci': 190}]  en  287  iteraciones  para dimension:  8\n",
            "La solucion final es: [{'s': (7, 2, 5, 3, 0, 4, 6, 1), 'ci': 190}]  en  288  iteraciones  para dimension:  8\n",
            "La solucion final es: [{'s': (7, 2, 5, 3, 0, 4, 6, 1), 'ci': 190}]  en  289  iteraciones  para dimension:  8\n",
            "La solucion final es: [{'s': (7, 2, 5, 3, 0, 4, 6, 1), 'ci': 190}]  en  290  iteraciones  para dimension:  8\n",
            "La solucion final es: [{'s': (7, 2, 5, 3, 0, 4, 6, 1), 'ci': 190}]  en  291  iteraciones  para dimension:  8\n",
            "La solucion final es: [{'s': (7, 2, 5, 3, 0, 4, 6, 1), 'ci': 190}]  en  292  iteraciones  para dimension:  8\n",
            "La solucion final es: [{'s': (7, 2, 5, 3, 0, 4, 6, 1), 'ci': 190}]  en  293  iteraciones  para dimension:  8\n",
            "La solucion final es: [{'s': (7, 2, 5, 3, 0, 4, 6, 1), 'ci': 190}]  en  294  iteraciones  para dimension:  8\n",
            "La solucion final es: [{'s': (7, 2, 5, 3, 0, 4, 6, 1), 'ci': 190}]  en  295  iteraciones  para dimension:  8\n",
            "La solucion final es: [{'s': (7, 2, 5, 3, 0, 4, 6, 1), 'ci': 190}]  en  296  iteraciones  para dimension:  8\n",
            "La solucion final es: [{'s': (7, 2, 5, 3, 0, 4, 6, 1), 'ci': 190}]  en  297  iteraciones  para dimension:  8\n",
            "La solucion final es: [{'s': (7, 2, 5, 3, 0, 4, 6, 1), 'ci': 190}]  en  298  iteraciones  para dimension:  8\n",
            "La solucion final es: [{'s': (7, 2, 5, 3, 0, 4, 6, 1), 'ci': 190}]  en  299  iteraciones  para dimension:  8\n",
            "La solucion final es: [{'s': (7, 2, 5, 3, 0, 4, 6, 1), 'ci': 190}]  en  300  iteraciones  para dimension:  8\n",
            "La solucion final es: [{'s': (7, 2, 5, 3, 0, 4, 6, 1), 'ci': 190}]  en  301  iteraciones  para dimension:  8\n",
            "La solucion final es: [{'s': (7, 2, 5, 3, 0, 4, 6, 1), 'ci': 190}]  en  302  iteraciones  para dimension:  8\n",
            "La solucion final es: [{'s': (7, 2, 5, 3, 0, 4, 6, 1), 'ci': 190}]  en  303  iteraciones  para dimension:  8\n",
            "La solucion final es: [{'s': (7, 2, 5, 3, 0, 4, 6, 1), 'ci': 190}]  en  304  iteraciones  para dimension:  8\n",
            "La solucion final es: [{'s': (7, 2, 5, 3, 0, 4, 6, 1), 'ci': 190}]  en  305  iteraciones  para dimension:  8\n",
            "La solucion final es: [{'s': (7, 2, 5, 3, 0, 4, 6, 1), 'ci': 190}]  en  306  iteraciones  para dimension:  8\n",
            "La solucion final es: [{'s': (7, 2, 5, 3, 0, 4, 6, 1), 'ci': 190}]  en  307  iteraciones  para dimension:  8\n",
            "La solucion final es: [{'s': (7, 2, 5, 3, 0, 4, 6, 1), 'ci': 190}]  en  308  iteraciones  para dimension:  8\n",
            "La solucion final es: [{'s': (7, 2, 5, 3, 0, 4, 6, 1), 'ci': 190}]  en  309  iteraciones  para dimension:  8\n",
            "La solucion final es: [{'s': (7, 2, 5, 3, 0, 4, 6, 1), 'ci': 190}]  en  310  iteraciones  para dimension:  8\n",
            "La solucion final es: [{'s': (7, 2, 5, 3, 0, 4, 6, 1), 'ci': 190}]  en  311  iteraciones  para dimension:  8\n",
            "La solucion final es: [{'s': (7, 2, 5, 3, 0, 4, 6, 1), 'ci': 190}]  en  312  iteraciones  para dimension:  8\n",
            "La solucion final es: [{'s': (7, 2, 5, 3, 0, 4, 6, 1), 'ci': 190}]  en  313  iteraciones  para dimension:  8\n",
            "La solucion final es: [{'s': (7, 2, 5, 3, 0, 4, 6, 1), 'ci': 190}]  en  314  iteraciones  para dimension:  8\n",
            "La solucion final es: [{'s': (7, 2, 5, 3, 0, 4, 6, 1), 'ci': 190}]  en  315  iteraciones  para dimension:  8\n",
            "La solucion final es: [{'s': (7, 2, 5, 3, 0, 4, 6, 1), 'ci': 190}]  en  316  iteraciones  para dimension:  8\n",
            "La solucion final es: [{'s': (7, 2, 5, 3, 0, 4, 6, 1), 'ci': 190}]  en  317  iteraciones  para dimension:  8\n",
            "La solucion final es: [{'s': (7, 2, 5, 3, 0, 4, 6, 1), 'ci': 190}]  en  318  iteraciones  para dimension:  8\n",
            "La solucion final es: [{'s': (7, 2, 5, 3, 0, 4, 6, 1), 'ci': 190}]  en  319  iteraciones  para dimension:  8\n",
            "La solucion final es: [{'s': (7, 2, 5, 3, 0, 4, 6, 1), 'ci': 190}]  en  320  iteraciones  para dimension:  8\n",
            "La solucion final es: [{'s': (7, 2, 5, 3, 0, 4, 6, 1), 'ci': 190}]  en  321  iteraciones  para dimension:  8\n",
            "La solucion final es: [{'s': (7, 2, 5, 3, 0, 4, 6, 1), 'ci': 190}]  en  322  iteraciones  para dimension:  8\n",
            "La solucion final es: [{'s': (7, 2, 5, 3, 0, 4, 6, 1), 'ci': 190}]  en  323  iteraciones  para dimension:  8\n",
            "La solucion final es: [{'s': (7, 2, 5, 3, 0, 4, 6, 1), 'ci': 190}]  en  324  iteraciones  para dimension:  8\n",
            "La solucion final es: [{'s': (7, 2, 5, 3, 0, 4, 6, 1), 'ci': 190}]  en  325  iteraciones  para dimension:  8\n",
            "La solucion final es: [{'s': (7, 2, 5, 3, 0, 4, 6, 1), 'ci': 190}]  en  326  iteraciones  para dimension:  8\n",
            "La solucion final es: [{'s': (7, 2, 5, 3, 0, 4, 6, 1), 'ci': 190}]  en  327  iteraciones  para dimension:  8\n",
            "La solucion final es: [{'s': (7, 2, 5, 3, 0, 4, 6, 1), 'ci': 190}]  en  328  iteraciones  para dimension:  8\n",
            "La solucion final es: [{'s': (7, 2, 5, 3, 0, 4, 6, 1), 'ci': 190}]  en  329  iteraciones  para dimension:  8\n",
            "La solucion final es: [{'s': (7, 2, 5, 3, 0, 4, 6, 1), 'ci': 190}]  en  330  iteraciones  para dimension:  8\n",
            "La solucion final es: [{'s': (7, 2, 5, 3, 0, 4, 6, 1), 'ci': 190}]  en  331  iteraciones  para dimension:  8\n",
            "La solucion final es: [{'s': (7, 2, 5, 3, 0, 4, 6, 1), 'ci': 190}]  en  332  iteraciones  para dimension:  8\n",
            "La solucion final es: [{'s': (7, 2, 5, 3, 0, 4, 6, 1), 'ci': 190}]  en  333  iteraciones  para dimension:  8\n",
            "La solucion final es: [{'s': (7, 2, 5, 3, 0, 4, 6, 1), 'ci': 190}]  en  334  iteraciones  para dimension:  8\n",
            "La solucion final es: [{'s': (7, 2, 5, 3, 0, 4, 6, 1), 'ci': 190}]  en  335  iteraciones  para dimension:  8\n",
            "La solucion final es: [{'s': (7, 2, 5, 3, 0, 4, 6, 1), 'ci': 190}]  en  336  iteraciones  para dimension:  8\n",
            "La solucion final es: [{'s': (7, 2, 5, 3, 0, 4, 6, 1), 'ci': 190}]  en  337  iteraciones  para dimension:  8\n",
            "La solucion final es: [{'s': (7, 2, 5, 3, 0, 4, 6, 1), 'ci': 190}]  en  338  iteraciones  para dimension:  8\n",
            "La solucion final es: [{'s': (7, 2, 5, 3, 0, 4, 6, 1), 'ci': 190}]  en  339  iteraciones  para dimension:  8\n",
            "La solucion final es: [{'s': (7, 2, 5, 3, 0, 4, 6, 1), 'ci': 190}]  en  340  iteraciones  para dimension:  8\n",
            "La solucion final es: [{'s': (7, 2, 5, 3, 0, 4, 6, 1), 'ci': 190}]  en  341  iteraciones  para dimension:  8\n",
            "La solucion final es: [{'s': (7, 2, 5, 3, 0, 4, 6, 1), 'ci': 190}]  en  342  iteraciones  para dimension:  8\n",
            "La solucion final es: [{'s': (7, 2, 5, 3, 0, 4, 6, 1), 'ci': 190}]  en  343  iteraciones  para dimension:  8\n"
          ],
          "name": "stdout"
        }
      ]
    }
  ]
}