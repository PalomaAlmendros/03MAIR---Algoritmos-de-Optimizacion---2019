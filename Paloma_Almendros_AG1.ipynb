{
  "nbformat": 4,
  "nbformat_minor": 0,
  "metadata": {
    "colab": {
      "name": "Paloma Almendros - AG1.ipynb",
      "provenance": [],
      "include_colab_link": true
    },
    "kernelspec": {
      "name": "python3",
      "display_name": "Python 3"
    }
  },
  "cells": [
    {
      "cell_type": "markdown",
      "metadata": {
        "id": "view-in-github",
        "colab_type": "text"
      },
      "source": [
        "<a href=\"https://colab.research.google.com/github/PalomaAlmendros/03MAIR---Algoritmos-de-Optimizacion---2019/blob/master/Paloma_Almendros_AG1.ipynb\" target=\"_parent\"><img src=\"https://colab.research.google.com/assets/colab-badge.svg\" alt=\"Open In Colab\"/></a>"
      ]
    },
    {
      "cell_type": "markdown",
      "metadata": {
        "id": "igVaAFY2WDYL",
        "colab_type": "text"
      },
      "source": [
        "* AG1- Algoritmos de Optimización\n",
        "* Paloma Almendros Jimenez\n",
        "* https://colab.research.google.com/drive/1QttL6WExSZjiLSZ9qxkkP6a0GWGyUgqW"
      ]
    },
    {
      "cell_type": "markdown",
      "metadata": {
        "id": "Tv1KH36nMlxJ",
        "colab_type": "text"
      },
      "source": [
        "GUIÓN DE LA PRÁCTICA:\n",
        "\n",
        "1. Divide y vencerás. TORRES DE HANOY\n",
        "2. Técnica de vuelta atrás. PROBLEMA DE LAS 4 REINAS"
      ]
    },
    {
      "cell_type": "code",
      "metadata": {
        "colab_type": "code",
        "id": "0lLedt67WY8j",
        "outputId": "63cf28ce-87ed-4abe-84b5-160679bcb57f",
        "colab": {
          "base_uri": "https://localhost:8080/",
          "height": 255
        }
      },
      "source": [
        "# EJERCICIO 1\n",
        "# TORRES DE HANOY:  divide y vencerás\n",
        "# Dado en clase\n",
        "# complejidad exponencial 2^n\n",
        "def torres (n,desde,hasta):\n",
        "  if n == 1:\n",
        "    print('\\nLleva la ficha desde ' ,desde, 'hasta ' ,hasta)\n",
        "  else:\n",
        "    torres(n-1, desde, 6-desde-hasta)\n",
        "    print('\\nLleva la ficha desde ' ,desde, 'hasta ' ,hasta)\n",
        "    torres(n-1, 6-desde-hasta, hasta)\n",
        "\n",
        "torres(3,1,3)"
      ],
      "execution_count": 0,
      "outputs": [
        {
          "output_type": "stream",
          "text": [
            "\n",
            "Lleva la ficha desde  1 hasta  3\n",
            "\n",
            "Lleva la ficha desde  1 hasta  2\n",
            "\n",
            "Lleva la ficha desde  3 hasta  2\n",
            "\n",
            "Lleva la ficha desde  1 hasta  3\n",
            "\n",
            "Lleva la ficha desde  2 hasta  1\n",
            "\n",
            "Lleva la ficha desde  2 hasta  3\n",
            "\n",
            "Lleva la ficha desde  1 hasta  3\n"
          ],
          "name": "stdout"
        }
      ]
    },
    {
      "cell_type": "code",
      "metadata": {
        "id": "uBYlxTRALkVt",
        "colab_type": "code",
        "outputId": "0825f07d-d136-4670-e45a-f9d12fb072ea",
        "colab": {
          "base_uri": "https://localhost:8080/",
          "height": 136
        }
      },
      "source": [
        "# TORRES DE HANOY\n",
        "# Otra manera, con pivote intermedio\n",
        "def hanoy(nbloques,de=1,pivote=2,al=3):\n",
        "    if nbloques ==1:\n",
        "      print ('\\Movimiento: desde ' ,de, 'a ' ,al)\n",
        "    else:\n",
        "      hanoy(nbloques-1, de, al, pivote)\n",
        "      print ('\\Movimiento: desde ' ,de, 'a ',al)\n",
        "      hanoy (nbloques-1, pivote, de, al)\n",
        "    return\n",
        "hanoy(3)\n"
      ],
      "execution_count": 0,
      "outputs": [
        {
          "output_type": "stream",
          "text": [
            "\\Movimiento: desde  1 a  3\n",
            "\\Movimiento: desde  1 a  2\n",
            "\\Movimiento: desde  3 a  2\n",
            "\\Movimiento: desde  1 a  3\n",
            "\\Movimiento: desde  2 a  1\n",
            "\\Movimiento: desde  2 a  3\n",
            "\\Movimiento: desde  1 a  3\n"
          ],
          "name": "stdout"
        }
      ]
    },
    {
      "cell_type": "code",
      "metadata": {
        "id": "j80tJkB72-mr",
        "colab_type": "code",
        "outputId": "e48fc67a-750e-437d-866d-ab336663b853",
        "colab": {
          "base_uri": "https://localhost:8080/",
          "height": 51
        }
      },
      "source": [
        "# EJERCICIO 2\n",
        "# PROBLEMA DE LAS 4 REINAS:  vuelta atrás\n",
        "# Dado en clase\n",
        "# complejidad O(n^2)\n",
        "\n",
        "def es_prometedora(solucion, etapa):\n",
        "  for i in range(etapa+1):\n",
        "    if solucion.count(solucion[i]) > 1:\n",
        "      return False\n",
        "    for j in range(i+1, etapa+1):\n",
        "      if abs(i-j) == abs(solucion[i] - solucion[j]):\n",
        "        return False\n",
        "  return True\n",
        "\n",
        "def reinas(n, solucion, etapa):\n",
        "  for i in range(1, n+1):\n",
        "    solucion[etapa] = i\n",
        "    if es_prometedora(solucion, etapa):\n",
        "      if etapa == n-1:\n",
        "        print('\\nLa solución es: ' ,solucion)\n",
        "      else:\n",
        "        reinas(n, solucion, etapa+1)\n",
        "    else:\n",
        "      None\n",
        "solucion = [0,0,0,0]\n",
        "reinas(4,solucion,0)\n"
      ],
      "execution_count": 0,
      "outputs": [
        {
          "output_type": "stream",
          "text": [
            "\n",
            "La solución es:  [3, 1, 4, 2]\n"
          ],
          "name": "stdout"
        }
      ]
    }
  ]
}