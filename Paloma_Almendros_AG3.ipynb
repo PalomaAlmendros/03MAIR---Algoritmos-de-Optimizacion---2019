{
  "nbformat": 4,
  "nbformat_minor": 0,
  "metadata": {
    "colab": {
      "name": "Paloma Almendros - AG3.ipynb",
      "provenance": [],
      "collapsed_sections": [],
      "authorship_tag": "ABX9TyPa1Q3Vc++6FYi20v5vDMZu",
      "include_colab_link": true
    },
    "kernelspec": {
      "name": "python3",
      "display_name": "Python 3"
    }
  },
  "cells": [
    {
      "cell_type": "markdown",
      "metadata": {
        "id": "view-in-github",
        "colab_type": "text"
      },
      "source": [
        "<a href=\"https://colab.research.google.com/github/PalomaAlmendros/03MAIR---Algoritmos-de-Optimizacion---2019/blob/master/Paloma_Almendros_AG3.ipynb\" target=\"_parent\"><img src=\"https://colab.research.google.com/assets/colab-badge.svg\" alt=\"Open In Colab\"/></a>"
      ]
    },
    {
      "cell_type": "markdown",
      "metadata": {
        "id": "EfqMBJ5BJciX",
        "colab_type": "text"
      },
      "source": [
        "AG3- Algoritmos de Optimización\n",
        "Actividad guiada 3\n",
        "\n",
        "Paloma Almendros Jimenez\n",
        "\n",
        "https://colab.research.google.com/drive/1TpIdMvWV-gM2P_oX-LZNiENygoZ3Uap8"
      ]
    },
    {
      "cell_type": "markdown",
      "metadata": {
        "id": "P9NMMp_EvT9T",
        "colab_type": "text"
      },
      "source": [
        "Vamos a obtener los datos de la página\n",
        "http://elib.zib.de/pub/mp-testdata/tsp/tsplib/tsplib.html    \n",
        "Y cogemos el fichero swiss42.tps    \n",
        "Es una matriz simétrica de distancias, de 42*42 que es el número de ciudades que tenemos en el problema, respecto a la diagonal."
      ]
    },
    {
      "cell_type": "code",
      "metadata": {
        "id": "5lJh7aeGwffS",
        "colab_type": "code",
        "colab": {}
      },
      "source": [
        "!pip install request"
      ],
      "execution_count": 0,
      "outputs": []
    },
    {
      "cell_type": "code",
      "metadata": {
        "id": "JLaNmIFAwnuS",
        "colab_type": "code",
        "colab": {
          "base_uri": "https://localhost:8080/",
          "height": 34
        },
        "outputId": "0df1f36a-64d3-4661-e88e-d7ec5a429654"
      },
      "source": [
        "import urllib.request\n",
        "\n",
        "file = \"swiss42.tsp\"\n",
        "\n",
        "urllib.request.urlretrieve(\"http://elib.zib.de/pub/mp-testdata/tsp/tsplib/tsp/swiss42.tsp\", file)"
      ],
      "execution_count": 94,
      "outputs": [
        {
          "output_type": "execute_result",
          "data": {
            "text/plain": [
              "('swiss42.tsp', <http.client.HTTPMessage at 0x7f59c9906f28>)"
            ]
          },
          "metadata": {
            "tags": []
          },
          "execution_count": 94
        }
      ]
    },
    {
      "cell_type": "code",
      "metadata": {
        "id": "g2j6KlopyKz0",
        "colab_type": "code",
        "colab": {
          "base_uri": "https://localhost:8080/",
          "height": 136
        },
        "outputId": "a42f2466-84e6-4413-d1db-08ea0354e58f"
      },
      "source": [
        "!pip install tsplib95"
      ],
      "execution_count": 5,
      "outputs": [
        {
          "output_type": "stream",
          "text": [
            "Collecting tsplib95\n",
            "  Downloading https://files.pythonhosted.org/packages/dc/43/039c0621085202f19d6c12b06330bf109743083ce4024137b4713da9c40b/tsplib95-0.6.1-py2.py3-none-any.whl\n",
            "Requirement already satisfied: networkx~=2.1 in /usr/local/lib/python3.6/dist-packages (from tsplib95) (2.4)\n",
            "Requirement already satisfied: Click>=6.0 in /usr/local/lib/python3.6/dist-packages (from tsplib95) (7.0)\n",
            "Requirement already satisfied: decorator>=4.3.0 in /usr/local/lib/python3.6/dist-packages (from networkx~=2.1->tsplib95) (4.4.1)\n",
            "Installing collected packages: tsplib95\n",
            "Successfully installed tsplib95-0.6.1\n"
          ],
          "name": "stdout"
        }
      ]
    },
    {
      "cell_type": "code",
      "metadata": {
        "id": "I5ImUbztyU5w",
        "colab_type": "code",
        "colab": {}
      },
      "source": [
        "import tsplib95\n",
        "import random\n",
        "import math\n"
      ],
      "execution_count": 0,
      "outputs": []
    },
    {
      "cell_type": "code",
      "metadata": {
        "id": "WmqYFNOKy-gS",
        "colab_type": "code",
        "colab": {}
      },
      "source": [
        "problem = tsplib95.load_problem(file)"
      ],
      "execution_count": 0,
      "outputs": []
    },
    {
      "cell_type": "markdown",
      "metadata": {
        "id": "2Cqq1izLzoip",
        "colab_type": "text"
      },
      "source": [
        "Podemos ver el número de nodos que tenemos en el problema    \n",
        "Vemos que efectivamente tenemos 42, y ¡¡¡¡ojo!!! que empieza de 0 a 41"
      ]
    },
    {
      "cell_type": "code",
      "metadata": {
        "id": "9Vs9BOtkzh5g",
        "colab_type": "code",
        "colab": {}
      },
      "source": [
        "Nodos = list(problem.get_nodes())"
      ],
      "execution_count": 0,
      "outputs": []
    },
    {
      "cell_type": "markdown",
      "metadata": {
        "id": "MT_EhIY60Kyt",
        "colab_type": "text"
      },
      "source": [
        "De igual manera podemos ver las aristas    "
      ]
    },
    {
      "cell_type": "code",
      "metadata": {
        "id": "5c40QqqR0Oyr",
        "colab_type": "code",
        "colab": {}
      },
      "source": [
        "Aristas = list(problem.get_edges())"
      ],
      "execution_count": 0,
      "outputs": []
    },
    {
      "cell_type": "markdown",
      "metadata": {
        "id": "o1i9hrPg0jx7",
        "colab_type": "text"
      },
      "source": [
        "Así comprobamos que el fichero está bien cargado, y tenemos todo para abordar nuestro problema    "
      ]
    },
    {
      "cell_type": "markdown",
      "metadata": {
        "id": "k99_s6Aj05di",
        "colab_type": "text"
      },
      "source": [
        "Si lo abordamos con fuerza bruta    \n",
        "¿Cual es la complejidad?    \n",
        "(n-1)!/2    \n",
        "siendo n = 42 (nuestras ciudades)    \n",
        "inabordable de esta forma    \n",
        "\n",
        "Así, lo vamos a resolver por la técnica de la    \n",
        "BÚSQUEDA ALEATORIA    \n"
      ]
    },
    {
      "cell_type": "code",
      "metadata": {
        "id": "OarlD0N72C62",
        "colab_type": "code",
        "colab": {}
      },
      "source": [
        "# Creo una función que genera una solución aleatoria con comienzo en el nodo 0\n",
        "def crear_solucion(Nodos): \n",
        "  solucion = [0]\n",
        "  for i in range(len(Nodos)-1):\n",
        "    solucion = solucion + [random.choice(list(set(Nodos) - set(solucion)))]\n",
        "  return solucion  "
      ],
      "execution_count": 0,
      "outputs": []
    },
    {
      "cell_type": "code",
      "metadata": {
        "id": "ECX4TDtN4AoU",
        "colab_type": "code",
        "colab": {}
      },
      "source": [
        "# distancia entre dos nodos\n",
        "def distancia(a,b, problem):\n",
        "  return problem.wfunc(a,b)"
      ],
      "execution_count": 0,
      "outputs": []
    },
    {
      "cell_type": "code",
      "metadata": {
        "id": "edF1b3fV4XKV",
        "colab_type": "code",
        "colab": {}
      },
      "source": [
        "# Creo otra función que devuelve la distancia total de una trayectoria\n",
        "def distancia_total(solucion, problem):\n",
        "  distancia_total = 0\n",
        "  for i in range(len(solucion)-1):\n",
        "    distancia_total += distancia(solucion[i] ,solucion[i+1] ,  problem)\n",
        "  return distancia_total + distancia(solucion[len(solucion)-1] ,solucion[0], problem)"
      ],
      "execution_count": 0,
      "outputs": []
    },
    {
      "cell_type": "code",
      "metadata": {
        "id": "m2QzwC2-5jZD",
        "colab_type": "code",
        "colab": {
          "base_uri": "https://localhost:8080/",
          "height": 51
        },
        "outputId": "76236e5b-69e1-4008-f6c0-1fa324f90677"
      },
      "source": [
        "# BUSQUEDA ALEATORIA\n",
        "def busqueda_aleatoria(problem, N):\n",
        "  mejor_solucion = crear_solucion(Nodos)\n",
        "  mejor_valor = distancia_total(mejor_solucion, problem)\n",
        "\n",
        "  for i in range(N):\n",
        "    solucion = crear_solucion(Nodos)\n",
        "    valor = distancia_total(solucion, problem)\n",
        "    if valor < mejor_valor:\n",
        "      mejor_solucion = solucion\n",
        "      mejor_valor = valor\n",
        "\n",
        "  print('La mejor solución es',mejor_valor,'\\n', mejor_solucion)\n",
        "\n",
        "\n",
        "busqueda_aleatoria(problem, 100)"
      ],
      "execution_count": 42,
      "outputs": [
        {
          "output_type": "stream",
          "text": [
            "La mejor solución es 4051 \n",
            " [0, 29, 28, 17, 20, 16, 19, 4, 12, 1, 15, 38, 11, 2, 30, 5, 21, 3, 27, 7, 31, 22, 14, 41, 24, 32, 33, 34, 35, 36, 13, 8, 25, 39, 40, 9, 23, 37, 18, 6, 10, 26]\n"
          ],
          "name": "stdout"
        }
      ]
    },
    {
      "cell_type": "code",
      "metadata": {
        "id": "pasx9pnA9NFQ",
        "colab_type": "code",
        "colab": {
          "base_uri": "https://localhost:8080/",
          "height": 51
        },
        "outputId": "5a244fc8-bfe2-4aeb-ce55-d67687a97448"
      },
      "source": [
        "busqueda_aleatoria(problem, 100)"
      ],
      "execution_count": 33,
      "outputs": [
        {
          "output_type": "stream",
          "text": [
            "La mejor solución es 4072 \n",
            " [0, 28, 39, 23, 38, 33, 21, 10, 12, 19, 29, 17, 32, 24, 34, 25, 41, 11, 3, 26, 6, 8, 30, 15, 5, 36, 37, 7, 16, 14, 1, 35, 31, 4, 2, 40, 27, 18, 13, 22, 20, 9]\n"
          ],
          "name": "stdout"
        }
      ]
    },
    {
      "cell_type": "code",
      "metadata": {
        "id": "RdOQ776d9QED",
        "colab_type": "code",
        "colab": {
          "base_uri": "https://localhost:8080/",
          "height": 51
        },
        "outputId": "b05c757a-6808-423b-bd09-21c3b234d539"
      },
      "source": [
        "busqueda_aleatoria(problem, 100)"
      ],
      "execution_count": 36,
      "outputs": [
        {
          "output_type": "stream",
          "text": [
            "La mejor solución es 4204 \n",
            " [0, 30, 11, 10, 23, 13, 14, 26, 9, 4, 19, 17, 27, 5, 20, 35, 34, 15, 12, 6, 36, 37, 25, 41, 1, 31, 16, 2, 40, 18, 3, 33, 28, 8, 21, 7, 29, 24, 38, 32, 22, 39]\n"
          ],
          "name": "stdout"
        }
      ]
    },
    {
      "cell_type": "markdown",
      "metadata": {
        "id": "korVLNIy9Uok",
        "colab_type": "text"
      },
      "source": [
        "Vemos que para 100 iteraciones en cada búsqueda la mejor solución dista mucho de una vez para otra  \n",
        "¿cómo podemos mejorar esto?    \n",
        "Aumentando el número de iteraciones    \n",
        "Veamoslo en la práctica    "
      ]
    },
    {
      "cell_type": "code",
      "metadata": {
        "id": "62bG06679Cxz",
        "colab_type": "code",
        "colab": {
          "base_uri": "https://localhost:8080/",
          "height": 51
        },
        "outputId": "d6e615ec-9822-4c55-dc6e-28e521ec61f5"
      },
      "source": [
        "busqueda_aleatoria(problem, 10000)"
      ],
      "execution_count": 39,
      "outputs": [
        {
          "output_type": "stream",
          "text": [
            "La mejor solución es 3512 \n",
            " [0, 39, 32, 20, 36, 16, 7, 37, 4, 9, 21, 24, 40, 23, 41, 12, 11, 10, 27, 34, 6, 30, 29, 18, 22, 28, 13, 2, 31, 14, 35, 38, 33, 3, 17, 19, 26, 5, 25, 15, 8, 1]\n"
          ],
          "name": "stdout"
        }
      ]
    },
    {
      "cell_type": "code",
      "metadata": {
        "id": "D8N-yusC9GX6",
        "colab_type": "code",
        "colab": {
          "base_uri": "https://localhost:8080/",
          "height": 51
        },
        "outputId": "65ec3f12-4801-4d3b-f535-15124106b07c"
      },
      "source": [
        "busqueda_aleatoria(problem, 10000)"
      ],
      "execution_count": 40,
      "outputs": [
        {
          "output_type": "stream",
          "text": [
            "La mejor solución es 3671 \n",
            " [0, 16, 37, 15, 1, 14, 10, 29, 25, 18, 26, 19, 38, 4, 27, 6, 21, 3, 9, 31, 17, 36, 30, 34, 33, 22, 12, 5, 13, 2, 41, 40, 24, 39, 11, 23, 7, 35, 8, 28, 32, 20]\n"
          ],
          "name": "stdout"
        }
      ]
    },
    {
      "cell_type": "code",
      "metadata": {
        "id": "NsRL2a4k9Gky",
        "colab_type": "code",
        "colab": {
          "base_uri": "https://localhost:8080/",
          "height": 51
        },
        "outputId": "c6fbe4ca-e905-44be-d88c-e6e2354a8d47"
      },
      "source": [
        "busqueda_aleatoria(problem, 10000)"
      ],
      "execution_count": 41,
      "outputs": [
        {
          "output_type": "stream",
          "text": [
            "La mejor solución es 3650 \n",
            " [0, 15, 13, 11, 4, 2, 23, 28, 31, 3, 12, 20, 24, 40, 9, 22, 38, 1, 41, 39, 25, 32, 7, 6, 5, 19, 14, 16, 34, 21, 27, 36, 35, 33, 29, 10, 8, 30, 37, 18, 26, 17]\n"
          ],
          "name": "stdout"
        }
      ]
    },
    {
      "cell_type": "markdown",
      "metadata": {
        "id": "-kyDn1q693ZD",
        "colab_type": "text"
      },
      "source": [
        "Las soluciones se aproximan mucho más conforme aumenta el número de iteraciones\n",
        "Pero aún estamos muy lejos de la mejor solución encontrada, que es 1273   \n",
        "\n",
        "Tenemos que ir a otras técnicas que nos hagan mejorar el resultado\n",
        "\n",
        "*** Vamos a BÚSQUEDA LOCAL\n",
        "Lo que hace es buscar una mejor solución vecina a una solución ya dada (encontrada con la aleatoria)\n",
        "Lo vamos a hacer con el operador 2-opt\n",
        "\n",
        "\n"
      ]
    },
    {
      "cell_type": "code",
      "metadata": {
        "id": "CbVU7ImsCD6Z",
        "colab_type": "code",
        "colab": {
          "base_uri": "https://localhost:8080/",
          "height": 68
        },
        "outputId": "5f2a2c31-b33a-4f2a-b7d3-b0d935bab2f5"
      },
      "source": [
        "def genera_vecina(solucion):\n",
        "  #Generador de soluciones vecinas: 2-opt (intercambiar 2 nodos) Si hay N nodos se generan (N-1)x(N-2)/2 soluciones\n",
        "  mejor_solucion = []\n",
        "  mejor_distancia = 10e100\n",
        "  \n",
        "  for i in range(1,len(solucion)-1):\n",
        "    for j in range(i+1, len(solucion)):\n",
        "      vecina = solucion[:i] + [solucion[j]] + solucion[i+1:j] + [solucion[i]] + solucion[j+1:] \n",
        "      distancia_vecina = distancia_total(vecina, problem)\n",
        "      if distancia_vecina <= mejor_distancia:\n",
        "        mejor_distancia = distancia_vecina\n",
        "        mejor_solucion = vecina\n",
        "  print('\\nLa mejor distancia es ',mejor_distancia, '\\n',mejor_solucion)\n",
        "  return mejor_solucion\n",
        "      \n",
        "solucion = crear_solucion(Nodos)\n",
        "mejor_solucion = genera_vecina(solucion)"
      ],
      "execution_count": 46,
      "outputs": [
        {
          "output_type": "stream",
          "text": [
            "\n",
            "La mejor distancia es  4828 \n",
            " [0, 30, 24, 25, 41, 2, 27, 34, 8, 28, 29, 16, 12, 6, 15, 26, 35, 22, 19, 20, 11, 4, 31, 18, 40, 21, 38, 7, 10, 36, 5, 13, 9, 1, 17, 39, 32, 14, 37, 23, 33, 3]\n"
          ],
          "name": "stdout"
        }
      ]
    },
    {
      "cell_type": "markdown",
      "metadata": {
        "id": "nQyUMFT9EpJ5",
        "colab_type": "text"
      },
      "source": [
        "Ya he encontrado una solución vecina, ahora tengo que iterar"
      ]
    },
    {
      "cell_type": "code",
      "metadata": {
        "id": "tuyS3iU6FCIz",
        "colab_type": "code",
        "colab": {
          "base_uri": "https://localhost:8080/",
          "height": 578
        },
        "outputId": "dc3b2554-5194-45f7-a99b-ef5c4a8aeb36"
      },
      "source": [
        "def busqueda_local(problem, N):\n",
        "  # problem = datos del problema\n",
        "  # N = numero de iteraciones\n",
        "  \n",
        "  mejor_solucion = []\n",
        "  mejor_distancia = 10e100\n",
        "  \n",
        "  solucion_referencia = crear_solucion(Nodos)\n",
        "  \n",
        "  for i in range(N):\n",
        "    vecina = genera_vecina(solucion_referencia)\n",
        "    distancia_vecina = distancia_total(vecina, problem)\n",
        "    if distancia_vecina <= mejor_distancia:\n",
        "      mejor_solucion = vecina\n",
        "      mejor_distancia = distancia_vecina\n",
        "      \n",
        "    solucion_referencia = vecina\n",
        "\n",
        "  print(\"\\nLa mejor solución encontrada es \" , mejor_distancia , '\\n', mejor_solucion)\n",
        "\n",
        "\n",
        "busqueda_local(problem, 10)"
      ],
      "execution_count": 58,
      "outputs": [
        {
          "output_type": "stream",
          "text": [
            "\n",
            "La mejor distancia es  4235 \n",
            " [0, 18, 5, 30, 34, 16, 10, 38, 41, 12, 2, 6, 8, 9, 23, 21, 19, 3, 40, 25, 22, 20, 36, 1, 37, 32, 27, 15, 11, 4, 7, 35, 13, 26, 14, 28, 33, 17, 31, 24, 29, 39]\n",
            "\n",
            "La mejor distancia es  3941 \n",
            " [0, 18, 5, 30, 34, 16, 10, 25, 41, 12, 2, 6, 8, 9, 23, 21, 19, 3, 40, 38, 22, 20, 36, 1, 37, 32, 27, 15, 11, 4, 7, 35, 13, 26, 14, 28, 33, 17, 31, 24, 29, 39]\n",
            "\n",
            "La mejor distancia es  3678 \n",
            " [0, 18, 5, 30, 34, 16, 10, 25, 41, 12, 2, 6, 8, 9, 23, 21, 19, 3, 29, 38, 22, 20, 36, 1, 37, 32, 27, 15, 11, 4, 7, 35, 13, 26, 14, 28, 33, 17, 31, 24, 40, 39]\n",
            "\n",
            "La mejor distancia es  3430 \n",
            " [0, 18, 5, 30, 34, 16, 10, 25, 41, 12, 2, 6, 8, 9, 23, 21, 19, 3, 29, 38, 22, 20, 36, 35, 37, 32, 27, 15, 11, 4, 7, 1, 13, 26, 14, 28, 33, 17, 31, 24, 40, 39]\n",
            "\n",
            "La mejor distancia es  3238 \n",
            " [0, 18, 5, 30, 34, 28, 10, 25, 41, 12, 2, 6, 8, 9, 23, 21, 19, 3, 29, 38, 22, 20, 36, 35, 37, 32, 27, 15, 11, 4, 7, 1, 13, 26, 14, 16, 33, 17, 31, 24, 40, 39]\n",
            "\n",
            "La mejor distancia es  3000 \n",
            " [0, 18, 5, 30, 34, 28, 10, 25, 41, 12, 2, 6, 8, 9, 23, 21, 19, 3, 29, 38, 22, 20, 36, 35, 33, 32, 27, 15, 11, 4, 7, 1, 13, 26, 14, 16, 37, 17, 31, 24, 40, 39]\n",
            "\n",
            "La mejor distancia es  2841 \n",
            " [0, 18, 5, 30, 34, 28, 10, 25, 41, 12, 2, 6, 8, 9, 23, 21, 11, 3, 29, 38, 22, 20, 36, 35, 33, 32, 27, 15, 19, 4, 7, 1, 13, 26, 14, 16, 37, 17, 31, 24, 40, 39]\n",
            "\n",
            "La mejor distancia es  2736 \n",
            " [0, 18, 5, 30, 34, 28, 10, 25, 11, 12, 2, 6, 8, 9, 23, 21, 41, 3, 29, 38, 22, 20, 36, 35, 33, 32, 27, 15, 19, 4, 7, 1, 13, 26, 14, 16, 37, 17, 31, 24, 40, 39]\n",
            "\n",
            "La mejor distancia es  2640 \n",
            " [0, 18, 5, 30, 34, 28, 10, 25, 11, 12, 2, 6, 8, 9, 23, 21, 41, 3, 29, 38, 22, 20, 36, 35, 33, 32, 27, 4, 19, 15, 7, 1, 13, 26, 14, 16, 37, 17, 31, 24, 40, 39]\n",
            "\n",
            "La mejor distancia es  2563 \n",
            " [0, 18, 5, 30, 22, 28, 10, 25, 11, 12, 2, 6, 8, 9, 23, 21, 41, 3, 29, 38, 34, 20, 36, 35, 33, 32, 27, 4, 19, 15, 7, 1, 13, 26, 14, 16, 37, 17, 31, 24, 40, 39]\n",
            "\n",
            "La mejor solución encontrada es  2563 \n",
            " [0, 18, 5, 30, 22, 28, 10, 25, 11, 12, 2, 6, 8, 9, 23, 21, 41, 3, 29, 38, 34, 20, 36, 35, 33, 32, 27, 4, 19, 15, 7, 1, 13, 26, 14, 16, 37, 17, 31, 24, 40, 39]\n"
          ],
          "name": "stdout"
        }
      ]
    },
    {
      "cell_type": "markdown",
      "metadata": {
        "id": "3xcv-oU8HQb8",
        "colab_type": "text"
      },
      "source": [
        "Un ejemplo:\n",
        "\n",
        "Para 10 iteraciones     \n",
        "Me ha dado    \n",
        "La mejor solución encontrada es  2580 \n",
        " [0, 37, 35, 36, 31, 16, 4, 38, 21, 40, 24, 23, 12, 25, 10, 8, 28, 22, 39, 2, 30, 3, 1, 6, 19, 15, 14, 13, 11, 41, 9, 29, 33, 17, 27, 32, 34, 20, 7, 26, 5, 18]\n",
        " \n",
        " Para 1000 iteraciones    \n",
        " La mejor solución encontrada es  1510     \n",
        " [0, 1, 3, 27, 32, 34, 33, 20, 31, 35, 36, 17, 28, 29, 8, 9, 41, 23, 40, 24, 21, 39, 22, 38, 30, 2, 4, 6, 18, 12, 11, 25, 10, 26, 5, 13, 19, 14, 16, 15, 37, 7]\n",
        "\n",
        " HEMOS MEJORADO MUCHO     \n",
        " PERO AUN PODEMOS MÁS    \n",
        " ¿CÓMO?    \n",
        " \n"
      ]
    },
    {
      "cell_type": "markdown",
      "metadata": {
        "id": "bazpJbb3JELN",
        "colab_type": "text"
      },
      "source": [
        "\n",
        "3 opciones:    \n",
        "1.- Modificar la estructura de entornos    \n",
        "      ** Búsqueda en entornos variables    \n",
        "2.- Permitir movimientos peores respecto a la solución actual    \n",
        "      ** Búsqueda tabú    \n",
        "      ** Recocido simulado    \n",
        "3.- Volver a comenzar con otras soluciones iniciales    \n",
        "      ** Búsquedas multi-arranque"
      ]
    },
    {
      "cell_type": "markdown",
      "metadata": {
        "id": "hcCus2XsNvRW",
        "colab_type": "text"
      },
      "source": [
        "De todas vamos ahora a usar    \n",
        "RECOCIDO SIMULADO    \n"
      ]
    },
    {
      "cell_type": "code",
      "metadata": {
        "id": "ZiE3E2CcPYlw",
        "colab_type": "code",
        "colab": {
          "base_uri": "https://localhost:8080/",
          "height": 51
        },
        "outputId": "b3068a5a-f439-4908-d851-4a69d36778ff"
      },
      "source": [
        "def genera_vecina_aleatorio(solucion):\n",
        "  #Generador de 1 solucion vecina 2-opt (intercambiar 2 nodos)\n",
        "  #Se puede mejorar haciendo que la elección no sea uniforme sino entre las que estén más próximas\n",
        "  i = random.choice(range(1, len(solucion)) )\n",
        "  j = random.choice(list(set(range(1, len(solucion))) - {i}))\n",
        "  if j<i:\n",
        "    i,j=j,i\n",
        "  vecina = list(solucion[:i] + [solucion[j]] + solucion[i+1:j] + [solucion[i]] + solucion[j+1:])\n",
        "  return vecina\n",
        "\n",
        "solucion = crear_solucion(Nodos)\n",
        "print(solucion, '\\n', genera_vecina_aleatorio(solucion))"
      ],
      "execution_count": 61,
      "outputs": [
        {
          "output_type": "stream",
          "text": [
            "[0, 40, 39, 41, 4, 24, 10, 38, 11, 7, 34, 15, 29, 25, 27, 16, 8, 18, 22, 35, 37, 26, 31, 36, 21, 14, 23, 20, 9, 13, 6, 28, 33, 2, 1, 30, 19, 12, 32, 3, 17, 5] \n",
            " [0, 40, 39, 41, 4, 24, 10, 38, 11, 7, 34, 15, 29, 25, 27, 16, 8, 18, 22, 35, 37, 26, 31, 36, 21, 14, 23, 20, 30, 13, 6, 28, 33, 2, 1, 9, 19, 12, 32, 3, 17, 5]\n"
          ],
          "name": "stdout"
        }
      ]
    },
    {
      "cell_type": "markdown",
      "metadata": {
        "id": "TY39Vi6UQ-qY",
        "colab_type": "text"
      },
      "source": [
        "También podemos usar recursividad para probar 2 intercambios"
      ]
    },
    {
      "cell_type": "code",
      "metadata": {
        "id": "MprsnCLRQ9qh",
        "colab_type": "code",
        "colab": {
          "base_uri": "https://localhost:8080/",
          "height": 51
        },
        "outputId": "7f342ef3-021e-4667-e736-4c5dd3305c8b"
      },
      "source": [
        "print(solucion, '\\n', genera_vecina_aleatorio(genera_vecina_aleatorio(solucion)))"
      ],
      "execution_count": 79,
      "outputs": [
        {
          "output_type": "stream",
          "text": [
            "[0, 40, 39, 41, 4, 24, 10, 38, 11, 7, 34, 15, 29, 25, 27, 16, 8, 18, 22, 35, 37, 26, 31, 36, 21, 14, 23, 20, 9, 13, 6, 28, 33, 2, 1, 30, 19, 12, 32, 3, 17, 5] \n",
            " [0, 40, 4, 41, 39, 24, 10, 38, 11, 7, 34, 15, 29, 25, 27, 16, 8, 18, 22, 35, 37, 26, 31, 36, 21, 14, 23, 20, 9, 13, 2, 28, 33, 6, 1, 30, 19, 12, 32, 3, 17, 5]\n"
          ],
          "name": "stdout"
        }
      ]
    },
    {
      "cell_type": "code",
      "metadata": {
        "id": "Cg7Jccz6SUlz",
        "colab_type": "code",
        "colab": {}
      },
      "source": [
        "# Función de probabilidad para determinar si se cambia \n",
        "# a una solución peor respecto a la de referencia(exponencial)\n",
        "def probabilidad(T,d):\n",
        "  if random.random() <= math.exp(-1*d / T)   :\n",
        "    return True\n",
        "  else:\n",
        "    return False\n",
        "\n",
        "\n",
        "def bajar_temperatura(T):\n",
        "  return T*.9999                  # utilizamos como criterio el descenso exponencial en la temperatura"
      ],
      "execution_count": 0,
      "outputs": []
    },
    {
      "cell_type": "code",
      "metadata": {
        "id": "-6HxfpHpTI08",
        "colab_type": "code",
        "colab": {}
      },
      "source": [
        "#####################################################################\n",
        "def recocido_simulado(problem, TEMPERATURA=1000):\n",
        "  # problem = datos del problema\n",
        "\n",
        "  solucion_referencia = crear_solucion(Nodos)\n",
        "  distancia_referencia = distancia_total(solucion_referencia, problem)\n",
        "  \n",
        "  mejor_solucion = []\n",
        "  mejor_distancia = 10e100\n",
        "\n",
        "  while TEMPERATURA > 1:\n",
        "    # Genera una solución vecina(aleatoria)\n",
        "    vecina = genera_vecina_aleatorio(solucion_referencia) \n",
        "    \n",
        "    # Calcula su valor(distancia)\n",
        "    distancia_vecina = distancia_total(vecina, problem)\n",
        "    \n",
        "    # Comparamos: si es la mejor solución de todas la guardamos\n",
        "    if distancia_vecina < mejor_distancia:\n",
        "      mejor_solucion = vecina\n",
        "      mejor_distancia = distancia_vecina\n",
        "      print('\\t****Encontrada mejor solucion:', mejor_distancia , mejor_solucion, '\\n')\n",
        "    \n",
        "    # Si la nueva vecina es mejor se cambia, y si es peor se cambia según \n",
        "    # una probabilidad dependiente de T y de |distancia_referencia - distancia_vecina|\n",
        "    p = probabilidad(TEMPERATURA, abs(distancia_referencia - distancia_vecina) )\n",
        "    if distancia_vecina < distancia_referencia or p :\n",
        "      solucion_referencia = vecina\n",
        "      distancia_referencia = distancia_vecina\n",
        "    \n",
        "    TEMPERATURA = bajar_temperatura(TEMPERATURA)\n",
        "\n",
        "  print(\"La mejor solución encontrada es :\" , mejor_distancia, mejor_solucion  )\n",
        "  return mejor_solucion\n",
        "\n",
        "sol = recocido_simulado(problem, TEMPERATURA=10000)"
      ],
      "execution_count": 0,
      "outputs": []
    },
    {
      "cell_type": "markdown",
      "metadata": {
        "id": "4jxuTIDAUr-W",
        "colab_type": "text"
      },
      "source": [
        "Ejemplo:    \n",
        "Para T=100000    \n",
        "La mejor solución encontrada es : 1508    \n",
        "[0, 3, 26, 13, 19, 5, 6, 1, 7, 14, 16, 15, 37, 31, 20, 33, 34, 38, 22, 39, 21, 24, 40, 23, 41, 9, 8, 10, 25, 11, 12, 18, 4, 2, 27, 28, 29, 30, 32, 35, 36, 17]    \n",
        "\n",
        "Para T=1000000    \n",
        "La mejor solución encontrada es : 1385    \n",
        "[0, 1, 7, 37, 15, 16, 14, 19, 13, 5, 26, 18, 12, 11, 25, 10, 8, 41, 23, 9, 39, 21, 40, 24, 22, 38, 30, 29, 28, 32, 31, 17, 36, 35, 20, 33, 34, 27, 2, 3, 4, 6]"
      ]
    },
    {
      "cell_type": "markdown",
      "metadata": {
        "id": "A_pJvwrvVsCS",
        "colab_type": "text"
      },
      "source": [
        "HEMOS MEJORADO MUCHO"
      ]
    },
    {
      "cell_type": "markdown",
      "metadata": {
        "id": "tMDewFDDWPxw",
        "colab_type": "text"
      },
      "source": [
        "VAMOS A PROBAR CON OTRO MÉTODO:    \n",
        "MÉTODO CONSTRUCTIVO    \n",
        "***COLONIA DE HORMIGAS***"
      ]
    },
    {
      "cell_type": "code",
      "metadata": {
        "id": "j1CUsuVFWkv_",
        "colab_type": "code",
        "colab": {
          "base_uri": "https://localhost:8080/",
          "height": 51
        },
        "outputId": "be834046-9c25-44cf-8ebe-29af1a51e981"
      },
      "source": [
        "# COLONIA DE HORMIGAS (ACO)\n",
        "\n",
        "# funciones auxiliares\n",
        "\n",
        "def Add_Nodo(problem, H ,T ) :\n",
        "  Nodos = list(problem.get_nodes())\n",
        "  return random.choice(list(set(range(1,len(Nodos))) - set(H)) )\n",
        "\n",
        "\n",
        "def Incrementa_Feromona(problem, T, H):\n",
        "  for i in range(len(H)-1):\n",
        "    T[H[i]][H[i+1]] += 1000/distancia_total(H, problem)\n",
        "  return T\n",
        "\n",
        "def Evaporar_Feromonas(T):\n",
        "  #Evapora 0.3 el valor de la feromona, sin que baje de 1\n",
        "  T = [[ max(T[i][j] - 0.3 , 1) for i in range(len(Nodos)) ] for j in range(len(Nodos))]\n",
        "  return T\n",
        "\n",
        "# función principal\n",
        "\n",
        "def hormigas(problem, N) :\n",
        "  # problem = datos del problema\n",
        "  # N = Número de agentes(hormigas)\n",
        "    \n",
        "  # Nodos\n",
        "  Nodos = list(problem.get_nodes())\n",
        "  # Aristas\n",
        "  Aristas = list(problem.get_edges()) \n",
        "  \n",
        "  # Inicializa las aristas con una cantidad inicial de feromonas:1\n",
        "  T = [[ 1 for _ in range(len(Nodos)) ] for _ in range(len(Nodos))]\n",
        "  \n",
        "  # Se generan los agentes(hormigas) que serán estructuras de caminos desde 0\n",
        "  Hormiga = [[0] for _ in range(N)]\n",
        "\n",
        "  # Recorre cada agente construyendo la solución\n",
        "  for h in range(N) :                                             # h es el número de hormiga\n",
        "    # Para cada agente (hormiga) se construye un camino\n",
        "    for i in range(len(Nodos)-1) :\n",
        "      \n",
        "      # Elige el siguiente nodo\n",
        "      Nuevo_Nodo = Add_Nodo(problem, Hormiga[h] ,T )\n",
        "      Hormiga[h].append(Nuevo_Nodo)                               # Hormiga[h] es el camino parcial    \n",
        "    \n",
        "    #Incrementa feromonas en esa arista \n",
        "    T = Incrementa_Feromona(problem, T, Hormiga[h] )\n",
        "      \n",
        "    #Evapora Feromonas  \n",
        "    T = Evaporar_Feromonas(T)\n",
        "\n",
        "    #Seleccionamos el mejor agente\n",
        "  mejor_solucion = []\n",
        "  mejor_distancia = 10e100\n",
        "  for h in range(N) :\n",
        "    distancia_actual = distancia_total(Hormiga[h], problem)\n",
        "    if distancia_actual < mejor_distancia:\n",
        "      mejor_solucion = Hormiga[h]\n",
        "      mejor_distancia =distancia_actual\n",
        "\n",
        "\n",
        "  print(mejor_distancia)\n",
        "  print(mejor_solucion)\n",
        "\n",
        "\n",
        "hormigas(problem, 100)"
      ],
      "execution_count": 92,
      "outputs": [
        {
          "output_type": "stream",
          "text": [
            "4225\n",
            "[0, 17, 23, 9, 41, 10, 14, 30, 29, 24, 21, 8, 13, 38, 33, 32, 20, 12, 28, 40, 4, 39, 34, 11, 15, 5, 18, 31, 6, 35, 3, 1, 25, 26, 16, 7, 36, 19, 37, 22, 2, 27]\n"
          ],
          "name": "stdout"
        }
      ]
    },
    {
      "cell_type": "markdown",
      "metadata": {
        "id": "En8vYzy2cByo",
        "colab_type": "text"
      },
      "source": [
        "Ejemplo:    \n",
        "Para 10 hormigas: 4021    \n",
        "Para 1000 hormigas: 3771       \n",
        "Para 10000 hormigas: 3746    \n",
        "Vemos que no llegamos a valores muy buenos\n",
        "\n"
      ]
    }
  ]
}